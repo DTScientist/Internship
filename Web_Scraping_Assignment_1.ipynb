{
  "nbformat": 4,
  "nbformat_minor": 0,
  "metadata": {
    "colab": {
      "name": "Web Scraping_Assignment 1.ipynb",
      "provenance": [],
      "collapsed_sections": []
    },
    "kernelspec": {
      "name": "python3",
      "display_name": "Python 3"
    },
    "language_info": {
      "name": "python"
    }
  },
  "cells": [
    {
      "cell_type": "code",
      "metadata": {
        "colab": {
          "base_uri": "https://localhost:8080/"
        },
        "id": "3KIbqh2c577y",
        "outputId": "d1246b84-d390-44c2-adf0-07df57ede399"
      },
      "source": [
        "!pip install bs4\n",
        "!pip install requests"
      ],
      "execution_count": null,
      "outputs": [
        {
          "output_type": "stream",
          "name": "stdout",
          "text": [
            "Requirement already satisfied: bs4 in /usr/local/lib/python3.7/dist-packages (0.0.1)\n",
            "Requirement already satisfied: beautifulsoup4 in /usr/local/lib/python3.7/dist-packages (from bs4) (4.6.3)\n",
            "Requirement already satisfied: requests in /usr/local/lib/python3.7/dist-packages (2.23.0)\n",
            "Requirement already satisfied: certifi>=2017.4.17 in /usr/local/lib/python3.7/dist-packages (from requests) (2021.5.30)\n",
            "Requirement already satisfied: urllib3!=1.25.0,!=1.25.1,<1.26,>=1.21.1 in /usr/local/lib/python3.7/dist-packages (from requests) (1.24.3)\n",
            "Requirement already satisfied: idna<3,>=2.5 in /usr/local/lib/python3.7/dist-packages (from requests) (2.10)\n",
            "Requirement already satisfied: chardet<4,>=3.0.2 in /usr/local/lib/python3.7/dist-packages (from requests) (3.0.4)\n"
          ]
        }
      ]
    },
    {
      "cell_type": "code",
      "metadata": {
        "id": "OAcOVCUg6IYF"
      },
      "source": [
        "#importing the required libraries\n",
        "\n",
        "from bs4 import BeautifulSoup\n",
        "import requests\n",
        "import re\n",
        "import pandas as pd"
      ],
      "execution_count": null,
      "outputs": []
    },
    {
      "cell_type": "markdown",
      "metadata": {
        "id": "3T4ohpuu3ACH"
      },
      "source": [
        "## 1) Write a python program to display all the header tags from ‘en.wikipedia.org/wiki/Main_Page’."
      ]
    },
    {
      "cell_type": "code",
      "metadata": {
        "colab": {
          "base_uri": "https://localhost:8080/"
        },
        "id": "9D1SE6Z31dUo",
        "outputId": "d5364c80-57d5-4577-b019-7645b2a1ec40"
      },
      "source": [
        "page=requests.get(\"https://en.wikipedia.org/wiki/Main_Page\")\n",
        "page"
      ],
      "execution_count": null,
      "outputs": [
        {
          "output_type": "execute_result",
          "data": {
            "text/plain": [
              "<Response [200]>"
            ]
          },
          "metadata": {},
          "execution_count": 4
        }
      ]
    },
    {
      "cell_type": "code",
      "metadata": {
        "colab": {
          "base_uri": "https://localhost:8080/",
          "height": 122
        },
        "id": "T3QdVtXv7M5C",
        "outputId": "bccb946e-7f41-4dbd-e02c-baf120f5dd26"
      },
      "source": [
        "soup = BeautifulSoup(page.content)\n",
        "soup.prettify()"
      ],
      "execution_count": null,
      "outputs": [
        {
          "output_type": "execute_result",
          "data": {
            "application/vnd.google.colaboratory.intrinsic+json": {
              "type": "string"
            },
            "text/plain": [
              "'<!DOCTYPE html>\\n<html class=\"client-nojs\" dir=\"ltr\" lang=\"en\">\\n <head>\\n  <meta charset=\"utf-8\"/>\\n  <title>\\n   Wikipedia, the free encyclopedia\\n  </title>\\n  <script>\\n   document.documentElement.className=\"client-js\";RLCONF={\"wgBreakFrames\":!1,\"wgSeparatorTransformTable\":[\"\",\"\"],\"wgDigitTransformTable\":[\"\",\"\"],\"wgDefaultDateFormat\":\"dmy\",\"wgMonthNames\":[\"\",\"January\",\"February\",\"March\",\"April\",\"May\",\"June\",\"July\",\"August\",\"September\",\"October\",\"November\",\"December\"],\"wgRequestId\":\"dbd023d5-4408-47cd-b9c6-2e3722c7aba2\",\"wgCSPNonce\":!1,\"wgCanonicalNamespace\":\"\",\"wgCanonicalSpecialPageName\":!1,\"wgNamespaceNumber\":0,\"wgPageName\":\"Main_Page\",\"wgTitle\":\"Main Page\",\"wgCurRevisionId\":1004593520,\"wgRevisionId\":1004593520,\"wgArticleId\":15580374,\"wgIsArticle\":!0,\"wgIsRedirect\":!1,\"wgAction\":\"view\",\"wgUserName\":null,\"wgUserGroups\":[\"*\"],\"wgCategories\":[],\"wgPageContentLanguage\":\"en\",\"wgPageContentModel\":\"wikitext\",\"wgRelevantPageName\":\"Main_Page\",\"wgRelevantArticleId\":15580374,\"wgIsProbablyEditable\":!1,\"wgRelevantPageIsProbablyEditable\":!1,\"wgRestrictionEdit\":[\"sysop\"],\"wgRestrictionMove\":[\"sysop\"],\"wgIsMainPage\":!0,\"wgFlaggedRevsParams\":{\\n\"tags\":{\"status\":{\"levels\":-1}}},\"wgMediaViewerOnClick\":!0,\"wgMediaViewerEnabledByDefault\":!0,\"wgPopupsFlags\":10,\"wgVisualEditor\":{\"pageLanguageCode\":\"en\",\"pageLanguageDir\":\"ltr\",\"pageVariantFallbacks\":\"en\"},\"wgMFDisplayWikibaseDescriptions\":{\"search\":!0,\"nearby\":!0,\"watchlist\":!0,\"tagline\":!1},\"wgWMESchemaEditAttemptStepOversample\":!1,\"wgULSCurrentAutonym\":\"English\",\"wgNoticeProject\":\"wikipedia\",\"wgEditSubmitButtonLabelPublish\":!0,\"wgULSPosition\":\"interlanguage\",\"wgULSisCompactLinksEnabled\":!0,\"wgGENewcomerTasksGuidanceEnabled\":!0,\"wgGEAskQuestionEnabled\":!1,\"wgGELinkRecommendationsFrontendEnabled\":!1,\"wgCentralAuthMobileDomain\":!1,\"wgWikibaseItemId\":\"Q5296\"};RLSTATE={\"ext.globalCssJs.user.styles\":\"ready\",\"site.styles\":\"ready\",\"noscript\":\"ready\",\"user.styles\":\"ready\",\"ext.globalCssJs.user\":\"ready\",\"user\":\"ready\",\"user.options\":\"loading\",\"skins.vector.styles.legacy\":\"ready\",\"ext.visualEditor.desktopArticleTarget.noscript\":\"ready\",\"ext.uls.interlanguage\":\\n\"ready\",\"ext.wikimediaBadges\":\"ready\"};RLPAGEMODULES=[\"site\",\"mediawiki.page.ready\",\"skins.vector.legacy.js\",\"ext.gadget.ReferenceTooltips\",\"ext.gadget.charinsert\",\"ext.gadget.extra-toolbar-buttons\",\"ext.gadget.refToolbar\",\"ext.gadget.switcher\",\"mmv.head\",\"mmv.bootstrap.autostart\",\"ext.popups\",\"ext.visualEditor.desktopArticleTarget.init\",\"ext.visualEditor.targetLoader\",\"ext.eventLogging\",\"ext.wikimediaEvents\",\"ext.navigationTiming\",\"ext.uls.interface\",\"ext.cx.eventlogging.campaigns\",\"ext.centralNotice.geoIP\",\"ext.centralNotice.startUp\",\"ext.centralauth.centralautologin\",\"ext.growthExperiments.SuggestedEditSession\"];\\n  </script>\\n  <script>\\n   (RLQ=window.RLQ||[]).push(function(){mw.loader.implement(\"user.options@1hzgi\",function($,jQuery,require,module){/*@nomin*/mw.user.tokens.set({\"patrolToken\":\"+\\\\\\\\\",\"watchToken\":\"+\\\\\\\\\",\"csrfToken\":\"+\\\\\\\\\"});\\n});});\\n  </script>\\n  <link href=\"/w/load.php?lang=en&amp;modules=ext.uls.interlanguage%7Cext.visualEditor.desktopArticleTarget.noscript%7Cext.wikimediaBadges%7Cskins.vector.styles.legacy&amp;only=styles&amp;skin=vector\" rel=\"stylesheet\"/>\\n  <script async=\"\" src=\"/w/load.php?lang=en&amp;modules=startup&amp;only=scripts&amp;raw=1&amp;skin=vector\">\\n  </script>\\n  <meta content=\"\" name=\"ResourceLoaderDynamicStyles\"/>\\n  <link href=\"/w/load.php?lang=en&amp;modules=site.styles&amp;only=styles&amp;skin=vector\" rel=\"stylesheet\"/>\\n  <meta content=\"MediaWiki 1.38.0-wmf.1\" name=\"generator\"/>\\n  <meta content=\"origin\" name=\"referrer\"/>\\n  <meta content=\"origin-when-crossorigin\" name=\"referrer\"/>\\n  <meta content=\"origin-when-cross-origin\" name=\"referrer\"/>\\n  <meta content=\"telephone=no\" name=\"format-detection\"/>\\n  <meta content=\"https://upload.wikimedia.org/wikipedia/en/1/1c/U-1_class_surfaced.jpeg\" property=\"og:image\"/>\\n  <meta content=\"Wikipedia, the free encyclopedia\" property=\"og:title\"/>\\n  <meta content=\"website\" property=\"og:type\"/>\\n  <link href=\"//upload.wikimedia.org\" rel=\"preconnect\"/>\\n  <link href=\"//en.m.wikipedia.org/wiki/Main_Page\" media=\"only screen and (max-width: 720px)\" rel=\"alternate\"/>\\n  <link href=\"/w/api.php?action=featuredfeed&amp;feed=potd&amp;feedformat=atom\" rel=\"alternate\" title=\"Wikipedia picture of the day feed\" type=\"application/atom+xml\"/>\\n  <link href=\"/w/api.php?action=featuredfeed&amp;feed=featured&amp;feedformat=atom\" rel=\"alternate\" title=\"Wikipedia featured articles feed\" type=\"application/atom+xml\"/>\\n  <link href=\"/w/api.php?action=featuredfeed&amp;feed=onthisday&amp;feedformat=atom\" rel=\"alternate\" title=\\'Wikipedia \"On this day...\" feed\\' type=\"application/atom+xml\"/>\\n  <link href=\"/static/apple-touch/wikipedia.png\" rel=\"apple-touch-icon\"/>\\n  <link href=\"/static/favicon/wikipedia.ico\" rel=\"shortcut icon\"/>\\n  <link href=\"/w/opensearch_desc.php\" rel=\"search\" title=\"Wikipedia (en)\" type=\"application/opensearchdescription+xml\"/>\\n  <link href=\"//en.wikipedia.org/w/api.php?action=rsd\" rel=\"EditURI\" type=\"application/rsd+xml\"/>\\n  <link href=\"//creativecommons.org/licenses/by-sa/3.0/\" rel=\"license\"/>\\n  <link href=\"https://en.wikipedia.org/wiki/Main_Page\" rel=\"canonical\"/>\\n  <link href=\"//meta.wikimedia.org\" rel=\"dns-prefetch\"/>\\n  <link href=\"//login.wikimedia.org\" rel=\"dns-prefetch\"/>\\n </head>\\n <body class=\"mediawiki ltr sitedir-ltr mw-hide-empty-elt ns-0 ns-subject page-Main_Page rootpage-Main_Page skin-vector action-view skin-vector-legacy\">\\n  <div class=\"noprint\" id=\"mw-page-base\">\\n  </div>\\n  <div class=\"noprint\" id=\"mw-head-base\">\\n  </div>\\n  <div class=\"mw-body\" id=\"content\" role=\"main\">\\n   <a id=\"top\">\\n   </a>\\n   <div id=\"siteNotice\">\\n    <!-- CentralNotice -->\\n   </div>\\n   <div class=\"mw-indicators\">\\n   </div>\\n   <h1 class=\"firstHeading\" id=\"firstHeading\">\\n    Main Page\\n   </h1>\\n   <div class=\"vector-body\" id=\"bodyContent\">\\n    <div class=\"noprint\" id=\"siteSub\">\\n     From Wikipedia, the free encyclopedia\\n    </div>\\n    <div id=\"contentSub\">\\n    </div>\\n    <div id=\"contentSub2\">\\n    </div>\\n    <div id=\"jump-to-nav\">\\n    </div>\\n    <a class=\"mw-jump-link\" href=\"#mw-head\">\\n     Jump to navigation\\n    </a>\\n    <a class=\"mw-jump-link\" href=\"#searchInput\">\\n     Jump to search\\n    </a>\\n    <div class=\"mw-body-content mw-content-ltr\" dir=\"ltr\" id=\"mw-content-text\" lang=\"en\">\\n     <div class=\"mw-parser-output\">\\n      <style data-mw-deduplicate=\"TemplateStyles:r1004580458\">\\n       .mw-parser-output #mp-topbanner{position:relative;box-sizing:border-box;min-width:47em;border-color:#ddd;background-color:#f9f9f9;white-space:nowrap}.mw-parser-output .mp-bordered,.mw-parser-output .mp-h2,body.skin-timeless .mw-parser-output .mp-h2{border-width:1px;border-style:solid}.mw-parser-output #mp-topbanner,.mw-parser-output .mp-h2,.mw-parser-output #mp-left{color:#000}.mw-parser-output #mp-welcomecount{margin:0.4em;width:22em;text-align:center}.mw-parser-output #mp-welcome{font-size:162%;padding:0.1em}.mw-parser-output #mp-free{font-size:95%}.mw-parser-output #articlecount{font-size:85%}.mw-parser-output #mp-portals{position:absolute;right:-1em;top:50%;margin-top:-2.4em;width:38%;min-width:25em;font-size:95%}.mw-parser-output #mp-portals li{position:absolute;left:0;top:0}.mw-parser-output #mp-portals .portal-hmid{left:33%}.mw-parser-output #mp-portals .portal-hright{left:66%}.mw-parser-output #mp-portals .portal-vmid{top:1.6em}.mw-parser-output #mp-portals .portal-vbot{top:3.2em}.mw-parser-output #mp-portals li:last-child{font-weight:bold}.mw-parser-output #mp-banner{margin-top:4px;padding:0.5em;background-color:#fffaf5;border-color:#f2e0ce}.mw-parser-output .mp-h2,body.skin-timeless .mw-parser-output .mp-h2{margin:0.5em;padding:0.2em 0.4em;font-size:120%;font-weight:bold;font-family:inherit}.mw-parser-output h2.mp-h2::after{border:none}.mw-parser-output .mp-later{font-size:85%;font-weight:normal}.mw-parser-output #mp-upper{width:100%;margin-top:4px;margin-bottom:0;border-spacing:0;border-collapse:separate}.mw-parser-output #mp-upper .mid-table{border-color:transparent}.mw-parser-output #mp-left{width:55%;border-color:#cef2e0;background:#f5fffa}.mw-parser-output #mp-right{width:45%;border-color:#cedff2;background:#f5faff}.mw-parser-output #mp-left,.mw-parser-output #mp-right{padding:0;vertical-align:top}.mw-parser-output #mp-left .mp-h2{background:#cef2e0;border-color:#a3bfb1}.mw-parser-output #mp-right .mp-h2{background:#cedff2;border-color:#a3b0bf}.mw-parser-output #mp-tfa,.mw-parser-output #mp-dyk,.mw-parser-output #mp-itn,.mw-parser-output #mp-otd,.mw-parser-output #mp-other-lower>div{padding:0.1em 0.6em}.mw-parser-output #mp-dyk-h2,.mw-parser-output #mp-otd-h2{clear:both}.mw-parser-output #mp-middle{margin-top:4px;border-color:#f2cedd;background:#fff5fa}.mw-parser-output #mp-middle,.mw-parser-output #mp-lower,.mw-parser-output #mp-other-lower{overflow:auto}.mw-parser-output #mp-tfl-h2{background:#f2cedd;border-color:#bfa3af}.mw-parser-output #mp-tfl{padding:0.3em 0.7em}.mw-parser-output #mp-lower{margin-top:4px;border-color:#ddcef2;background:#faf5ff}.mw-parser-output #mp-tfp-h2{background:#ddcef2;border-color:#afa3bf}.mw-parser-output #mp-tfp{margin:0.1em 0.4em 0.6em}.mw-parser-output #mp-other-lower{padding:0;border-color:#e2e2e2;margin-top:4px}.mw-parser-output #mp-dyk,.mw-parser-output #mp-otd,.mw-parser-output #mp-other-lower{padding-bottom:0.5em}.mw-parser-output #mp-other-lower .mp-h2{background:#eee;border-color:#ddd;color:#222}@media(max-width:875px){body.skin--responsive .mw-parser-output #mp-welcomecount{width:auto}body.skin--responsive .mw-parser-output #mp-topbanner{min-width:0;white-space:normal}body.skin--responsive .mw-parser-output #mp-portals{position:static;width:auto;min-width:0;text-align:center;border-top:1px solid #ddd;padding:0.4em 0;margin:0 0.4em}body.skin--responsive .mw-parser-output #mp-portals li{position:static;display:inline;padding:0 5px;white-space:nowrap}body.skin--responsive .mw-parser-output table,body.skin--responsive .mw-parser-output tr,body.skin--responsive .mw-parser-output td,body.skin--responsive .mw-parser-output tbody{display:block!important;width:100%!important;box-sizing:border-box}body.skin--responsive .mw-parser-output #mp-tfp tr:first-child td:first-child a{text-align:center;display:table;margin:0 auto}}\\n      </style>\\n      <div class=\"mp-bordered\" id=\"mp-topbanner\">\\n       <div id=\"mp-welcomecount\">\\n        <div id=\"mp-welcome\">\\n         Welcome to\\n         <a href=\"/wiki/Wikipedia\" title=\"Wikipedia\">\\n          Wikipedia\\n         </a>\\n         ,\\n        </div>\\n        <div id=\"mp-free\">\\n         the\\n         <a href=\"/wiki/Free_content\" title=\"Free content\">\\n          free\\n         </a>\\n         <a href=\"/wiki/Encyclopedia\" title=\"Encyclopedia\">\\n          encyclopedia\\n         </a>\\n         that\\n         <a href=\"/wiki/Help:Introduction_to_Wikipedia\" title=\"Help:Introduction to Wikipedia\">\\n          anyone can edit\\n         </a>\\n         .\\n        </div>\\n        <div id=\"articlecount\">\\n         <a href=\"/wiki/Special:Statistics\" title=\"Special:Statistics\">\\n          6,384,575\\n         </a>\\n         articles in\\n         <a href=\"/wiki/English_language\" title=\"English language\">\\n          English\\n         </a>\\n        </div>\\n       </div>\\n       <ul id=\"mp-portals\">\\n        <li>\\n         <a href=\"/wiki/Portal:The_arts\" title=\"Portal:The arts\">\\n          The arts\\n         </a>\\n        </li>\\n        <li class=\"portal-vmid\">\\n         <a href=\"/wiki/Portal:Biography\" title=\"Portal:Biography\">\\n          Biography\\n         </a>\\n        </li>\\n        <li class=\"portal-vbot\">\\n         <a href=\"/wiki/Portal:Geography\" title=\"Portal:Geography\">\\n          Geography\\n         </a>\\n        </li>\\n        <li class=\"portal-hmid\">\\n         <a href=\"/wiki/Portal:History\" title=\"Portal:History\">\\n          History\\n         </a>\\n        </li>\\n        <li class=\"portal-hmid portal-vmid\">\\n         <a href=\"/wiki/Portal:Mathematics\" title=\"Portal:Mathematics\">\\n          Mathematics\\n         </a>\\n        </li>\\n        <li class=\"portal-hmid portal-vbot\">\\n         <a href=\"/wiki/Portal:Science\" title=\"Portal:Science\">\\n          Science\\n         </a>\\n        </li>\\n        <li class=\"portal-hright\">\\n         <a href=\"/wiki/Portal:Society\" title=\"Portal:Society\">\\n          Society\\n         </a>\\n        </li>\\n        <li class=\"portal-hright portal-vmid\">\\n         <a href=\"/wiki/Portal:Technology\" title=\"Portal:Technology\">\\n          Technology\\n         </a>\\n        </li>\\n        <li class=\"portal-hright portal-vbot\">\\n         <a href=\"/wiki/Wikipedia:Contents/Portals\" title=\"Wikipedia:Contents/Portals\">\\n          All portals\\n         </a>\\n        </li>\\n       </ul>\\n      </div>\\n      <table id=\"mp-upper\" role=\"presentation\">\\n       <tbody>\\n        <tr>\\n         <td class=\"MainPageBG mp-bordered\" id=\"mp-left\">\\n          <h2 class=\"mp-h2\" id=\"mp-tfa-h2\">\\n           <span id=\"From_today.27s_featured_article\">\\n           </span>\\n           <span class=\"mw-headline\" id=\"From_today\\'s_featured_article\">\\n            From today\\'s featured article\\n           </span>\\n          </h2>\\n          <div id=\"mp-tfa\">\\n           <div id=\"mp-tfa-img\" style=\"float: left; margin: 0.5em 0.9em 0.4em 0em;\">\\n            <div class=\"thumbinner mp-thumb\" style=\"background: transparent; border: none; padding: 0; max-width: 158px;\">\\n             <a class=\"image\" href=\"/wiki/File:U-1_class_surfaced.jpeg\" title=\"U-1-class submarine surfaced\">\\n              <img alt=\"U-1-class submarine surfaced\" class=\"thumbborder\" data-file-height=\"912\" data-file-width=\"1137\" decoding=\"async\" height=\"125\" src=\"//upload.wikimedia.org/wikipedia/en/thumb/1/1c/U-1_class_surfaced.jpeg/156px-U-1_class_surfaced.jpeg\" srcset=\"//upload.wikimedia.org/wikipedia/en/thumb/1/1c/U-1_class_surfaced.jpeg/234px-U-1_class_surfaced.jpeg 1.5x, //upload.wikimedia.org/wikipedia/en/thumb/1/1c/U-1_class_surfaced.jpeg/312px-U-1_class_surfaced.jpeg 2x\" width=\"156\"/>\\n             </a>\\n            </div>\\n           </div>\\n           <p>\\n            The two submarines of the\\n            <b>\\n             <a href=\"/wiki/U-1-class_submarine_(Austria-Hungary)\" title=\"U-1-class submarine (Austria-Hungary)\">\\n              <i>\\n               <span class=\"nowrap\">\\n                U-1\\n               </span>\\n              </i>\\n              class\\n             </a>\\n            </b>\\n            ,\\n            <span class=\"nowrap\">\\n             <a href=\"/wiki/SM_U-1_(Austria-Hungary)\" title=\"SM U-1 (Austria-Hungary)\">\\n              <i>\\n               U-1\\n              </i>\\n             </a>\\n            </span>\\n            and\\n            <span class=\"nowrap\">\\n             <a href=\"/wiki/SM_U-2_(Austria-Hungary)\" title=\"SM U-2 (Austria-Hungary)\">\\n              <i>\\n               U-2\\n              </i>\\n             </a>\\n            </span>\\n            , were built for the\\n            <a href=\"/wiki/Austro-Hungarian_Navy\" title=\"Austro-Hungarian Navy\">\\n             Austro-Hungarian Navy\\n            </a>\\n            . Constructed according to an American design, they were\\n            <a href=\"/wiki/Ceremonial_ship_launching\" title=\"Ceremonial ship launching\">\\n             launched\\n            </a>\\n            in 1909. A\\n            <a href=\"/wiki/Diving_chamber\" title=\"Diving chamber\">\\n             diving chamber\\n            </a>\\n            , wheels for traveling along the\\n            <a href=\"/wiki/Seabed\" title=\"Seabed\">\\n             seabed\\n            </a>\\n            , and other experimental features were tested extensively in\\n            <a href=\"/wiki/Sea_trial\" title=\"Sea trial\">\\n             sea trials\\n            </a>\\n            . Their\\n            <a href=\"/wiki/Petrol_engine\" title=\"Petrol engine\">\\n             gasoline engines\\n            </a>\\n            were replaced around the start of\\n            <a href=\"/wiki/World_War_I\" title=\"World War I\">\\n             World War\\xa0I\\n            </a>\\n            over safety and efficiency concerns. The boats have been described by naval historians as obsolete by the time they were\\n            <a href=\"/wiki/Ship_commissioning\" title=\"Ship commissioning\">\\n             commissioned\\n            </a>\\n            in 1911. Both submarines were\\n            <a href=\"/wiki/Mobilization\" title=\"Mobilization\">\\n             mobilized\\n            </a>\\n            briefly during the\\n            <a href=\"/wiki/Balkan_Wars\" title=\"Balkan Wars\">\\n             Balkan Wars\\n            </a>\\n            , and otherwise served as\\n            <a href=\"/wiki/Training_ship\" title=\"Training ship\">\\n             training boats\\n            </a>\\n            before 1915. From 1915 to 1918 they conducted reconnaissance cruises out of\\n            <a href=\"/wiki/Trieste\" title=\"Trieste\">\\n             Trieste\\n            </a>\\n            and\\n            <a href=\"/wiki/Pula\" title=\"Pula\">\\n             Pola\\n            </a>\\n            , though neither sank any enemy vessels during the war. Facing defeat in October 1918, the Austro-Hungarian government transferred the bulk of its fleet, including these submarines, to the newly formed\\n            <a href=\"/wiki/State_of_Slovenes,_Croats_and_Serbs\" title=\"State of Slovenes, Croats and Serbs\">\\n             State of Slovenes, Croats and Serbs\\n            </a>\\n            to avoid having to hand its ships over to the\\n            <a href=\"/wiki/Allies_of_World_War_I\" title=\"Allies of World War I\">\\n             Allied Powers\\n            </a>\\n            . (\\n            <b>\\n             <a href=\"/wiki/U-1-class_submarine_(Austria-Hungary)\" title=\"U-1-class submarine (Austria-Hungary)\">\\n              Full\\xa0article...\\n             </a>\\n            </b>\\n            )\\n           </p>\\n           <div class=\"tfa-recent\" style=\"text-align: right;\">\\n            Recently featured:\\n            <div class=\"hlist hlist-separated inline\">\\n             <ul>\\n              <li>\\n               <a href=\"/wiki/Lettuce\" title=\"Lettuce\">\\n                Lettuce\\n               </a>\\n              </li>\\n              <li>\\n               <i>\\n                <a href=\"/wiki/Transandinomys\" title=\"Transandinomys\">\\n                 Transandinomys\\n                </a>\\n               </i>\\n              </li>\\n              <li>\\n               <a href=\"/wiki/British_nuclear_tests_at_Maralinga\" title=\"British nuclear tests at Maralinga\">\\n                British nuclear tests at Maralinga\\n               </a>\\n              </li>\\n             </ul>\\n            </div>\\n           </div>\\n           <div class=\"tfa-footer hlist hlist-separated noprint\" style=\"text-align: right;\">\\n            <ul>\\n             <li>\\n              <b>\\n               <a href=\"/wiki/Wikipedia:Today%27s_featured_article/September_2021\" title=\"Wikipedia:Today\\'s featured article/September 2021\">\\n                Archive\\n               </a>\\n              </b>\\n             </li>\\n             <li>\\n              <b>\\n               <a class=\"extiw\" href=\"https://lists.wikimedia.org/mailman/listinfo/daily-article-l\" title=\"mail:daily-article-l\">\\n                By email\\n               </a>\\n              </b>\\n             </li>\\n             <li>\\n              <b>\\n               <a href=\"/wiki/Wikipedia:Featured_articles\" title=\"Wikipedia:Featured articles\">\\n                More featured articles\\n               </a>\\n              </b>\\n             </li>\\n            </ul>\\n           </div>\\n          </div>\\n          <h2 class=\"mp-h2\" id=\"mp-dyk-h2\">\\n           <span class=\"mw-headline\" id=\"Did_you_know_...\">\\n            Did you know\\xa0...\\n           </span>\\n          </h2>\\n          <div id=\"mp-dyk\">\\n           <div class=\"dyk-img\" style=\"float: right; margin-left: 0.5em;\">\\n            <div class=\"thumbinner mp-thumb\" style=\"background: transparent; border: none; padding: 0; max-width: 121px;\">\\n             <a class=\"image\" href=\"/wiki/File:Broken_Circle_-_Spiral_Hill,_Robert_Smithson_-_Q2867150_-_4.jpg\" title=\"Broken Circle/Spiral Hill in 2021\">\\n              <img alt=\"Broken Circle/Spiral Hill in 2021\" data-file-height=\"4032\" data-file-width=\"3024\" decoding=\"async\" height=\"161\" src=\"//upload.wikimedia.org/wikipedia/commons/thumb/7/7d/Broken_Circle_-_Spiral_Hill%2C_Robert_Smithson_-_Q2867150_-_4.jpg/121px-Broken_Circle_-_Spiral_Hill%2C_Robert_Smithson_-_Q2867150_-_4.jpg\" srcset=\"//upload.wikimedia.org/wikipedia/commons/thumb/7/7d/Broken_Circle_-_Spiral_Hill%2C_Robert_Smithson_-_Q2867150_-_4.jpg/182px-Broken_Circle_-_Spiral_Hill%2C_Robert_Smithson_-_Q2867150_-_4.jpg 1.5x, //upload.wikimedia.org/wikipedia/commons/thumb/7/7d/Broken_Circle_-_Spiral_Hill%2C_Robert_Smithson_-_Q2867150_-_4.jpg/242px-Broken_Circle_-_Spiral_Hill%2C_Robert_Smithson_-_Q2867150_-_4.jpg 2x\" width=\"121\"/>\\n             </a>\\n             <div class=\"thumbcaption\" style=\"padding: 0.25em 0; word-wrap: break-word;\">\\n              <i>\\n               Broken Circle/Spiral Hill\\n              </i>\\n              in 2021\\n             </div>\\n            </div>\\n           </div>\\n           <ul>\\n            <li>\\n             ... that the artist\\n             <a href=\"/wiki/Robert_Smithson\" title=\"Robert Smithson\">\\n              Robert Smithson\\n             </a>\\n             suggested that the boulder in the center of his piece\\n             <i>\\n              <b>\\n               <a href=\"/wiki/Broken_Circle/Spiral_Hill\" title=\"Broken Circle/Spiral Hill\">\\n                Broken Circle/Spiral Hill\\n               </a>\\n              </b>\\n             </i>\\n             <i>\\n              (pictured)\\n             </i>\\n             was a \"warning from the Ice Age\"?\\n            </li>\\n            <li>\\n             ... that\\n             <b>\\n              <a class=\"mw-redirect\" href=\"/wiki/1911_Capitol_fire\" title=\"1911 Capitol fire\">\\n               the 1911 fire\\n              </a>\\n             </b>\\n             at the\\n             <a href=\"/wiki/New_York_State_Capitol\" title=\"New York State Capitol\">\\n              New York State Capitol\\n             </a>\\n             destroyed over 700,000 items held by the\\n             <a href=\"/wiki/New_York_State_Library\" title=\"New York State Library\">\\n              New York State Library\\n             </a>\\n             , creating a \"hole in [New York\\'s] cultural heritage\"?\\n            </li>\\n            <li>\\n             ... that a 15-year-old boy died after falling from the top of a\\n             <b>\\n              <a href=\"/wiki/HMS_Ganges_mast\" title=\"HMS Ganges mast\">\\n               142-foot high (43 m) mast\\n              </a>\\n             </b>\\n             ?\\n            </li>\\n            <li>\\n             ... that\\n             <b>\\n              <a href=\"/wiki/Richard_McGeagh\" title=\"Richard McGeagh\">\\n               Richard McGeagh\\n              </a>\\n             </b>\\n             did not receive a gold medal, even though he set an Olympic record in the\\n             <a href=\"/wiki/Swimming_at_the_1964_Summer_Olympics_%E2%80%93_Men%27s_4_%C3%97_100_metre_medley_relay\" title=\"Swimming at the 1964 Summer Olympics – Men\\'s 4 × 100 metre medley relay\">\\n              4×100 metre medley relay at the 1964 Olympics\\n             </a>\\n             ?\\n            </li>\\n            <li>\\n             ... that the winner of the men\\'s race at the\\n             <b>\\n              <a href=\"/wiki/2004_London_Marathon\" title=\"2004 London Marathon\">\\n               2004 London Marathon\\n              </a>\\n             </b>\\n             fell during the race on\\n             <a href=\"/wiki/Cobblestone\" title=\"Cobblestone\">\\n              cobblestones\\n             </a>\\n             ?\\n            </li>\\n            <li>\\n             ... that\\n             <b>\\n              <a href=\"/wiki/Saul_Soliz\" title=\"Saul Soliz\">\\n               Saul Soliz\\n              </a>\\n             </b>\\n             was known as \"the godfather of Texas\\n             <a href=\"/wiki/Mixed_martial_arts\" title=\"Mixed martial arts\">\\n              MMA\\n             </a>\\n             \"?\\n            </li>\\n            <li>\\n             ... that the\\n             <b>\\n              <a href=\"/wiki/Morowali_Industrial_Park\" title=\"Morowali Industrial Park\">\\n               Morowali Industrial Park\\n              </a>\\n             </b>\\n             is the largest center of\\n             <a href=\"/wiki/Nickel_mining_in_Indonesia\" title=\"Nickel mining in Indonesia\">\\n              nickel industry in Indonesia\\n             </a>\\n             , the world\\'s top nickel producer?\\n            </li>\\n            <li>\\n             ... that\\n             <b>\\n              <a href=\"/wiki/Dinah_John\" title=\"Dinah John\">\\n               Dinah John\\n              </a>\\n             </b>\\n             was one of an estimated fifteen Native American women from New York state to serve in the\\n             <a href=\"/wiki/War_of_1812\" title=\"War of 1812\">\\n              War of 1812\\n             </a>\\n             ?\\n            </li>\\n           </ul>\\n           <div class=\"dyk-footer hlist noprint\" style=\"margin-top: 0.5em; text-align: right;\">\\n            <ul>\\n             <li>\\n              <b>\\n               <a href=\"/wiki/Wikipedia:Recent_additions\" title=\"Wikipedia:Recent additions\">\\n                Archive\\n               </a>\\n              </b>\\n             </li>\\n             <li>\\n              <b>\\n               <a href=\"/wiki/Help:Your_first_article\" title=\"Help:Your first article\">\\n                Start a new article\\n               </a>\\n              </b>\\n             </li>\\n             <li>\\n              <b>\\n               <a href=\"/wiki/Template_talk:Did_you_know\" title=\"Template talk:Did you know\">\\n                Nominate an article\\n               </a>\\n              </b>\\n             </li>\\n            </ul>\\n           </div>\\n          </div>\\n         </td>\\n         <td class=\"mp-bordered mid-table\">\\n         </td>\\n         <td class=\"MainPageBG mp-bordered\" id=\"mp-right\">\\n          <h2 class=\"mp-h2\" id=\"mp-itn-h2\">\\n           <span class=\"mw-headline\" id=\"In_the_news\">\\n            In the news\\n           </span>\\n          </h2>\\n          <div id=\"mp-itn\">\\n           <div class=\"itn-img\" role=\"figure\" style=\"float: right; margin-left: 0.5em; margin-top: 0.2em;\">\\n            <div class=\"thumbinner mp-thumb\" style=\"background: transparent; border: none; padding: 0; max-width: 136px;\">\\n             <a class=\"image\" href=\"/wiki/File:Michael_Kovrig.png\" title=\"Michael Kovrig in 2019\">\\n              <img alt=\"Michael Kovrig in 2019\" data-file-height=\"1014\" data-file-width=\"954\" decoding=\"async\" height=\"145\" src=\"//upload.wikimedia.org/wikipedia/commons/thumb/b/b8/Michael_Kovrig.png/136px-Michael_Kovrig.png\" srcset=\"//upload.wikimedia.org/wikipedia/commons/thumb/b/b8/Michael_Kovrig.png/204px-Michael_Kovrig.png 1.5x, //upload.wikimedia.org/wikipedia/commons/thumb/b/b8/Michael_Kovrig.png/272px-Michael_Kovrig.png 2x\" width=\"136\"/>\\n             </a>\\n             <div class=\"thumbcaption\" style=\"padding: 0.25em 0; word-wrap: break-word; text-align: left;\">\\n              Michael Kovrig\\n             </div>\\n            </div>\\n           </div>\\n           <ul>\\n            <li>\\n             The\\n             <a href=\"/wiki/Social_Democratic_Party_of_Germany\" title=\"Social Democratic Party of Germany\">\\n              Social Democratic Party\\n             </a>\\n             wins the most seats in the\\n             <b>\\n              <a href=\"/wiki/2021_German_federal_election\" title=\"2021 German federal election\">\\n               German federal election\\n              </a>\\n             </b>\\n             .\\n            </li>\\n            <li>\\n             Canadians\\n             <a href=\"/wiki/Michael_Spavor\" title=\"Michael Spavor\">\\n              Michael Spavor\\n             </a>\\n             and Michael Kovrig\\n             <i>\\n              (pictured)\\n             </i>\\n             are\\n             <b>\\n              <a href=\"/wiki/Detention_of_Michael_Spavor_and_Michael_Kovrig\" title=\"Detention of Michael Spavor and Michael Kovrig\">\\n               released from detention\\n              </a>\\n             </b>\\n             in China shortly after the release of\\n             <a href=\"/wiki/Huawei\" title=\"Huawei\">\\n              Huawei\\n             </a>\\n             executive\\n             <b>\\n              <a href=\"/wiki/Meng_Wanzhou\" title=\"Meng Wanzhou\">\\n               Meng Wanzhou\\n              </a>\\n             </b>\\n             from house arrest in Canada.\\n            </li>\\n            <li>\\n             The\\n             <a href=\"/wiki/Liberal_Party_of_Canada\" title=\"Liberal Party of Canada\">\\n              Liberal Party of Canada\\n             </a>\\n             , led by\\n             <a href=\"/wiki/Justin_Trudeau\" title=\"Justin Trudeau\">\\n              Justin Trudeau\\n             </a>\\n             , is\\n             <b>\\n              <a href=\"/wiki/2021_Canadian_federal_election\" title=\"2021 Canadian federal election\">\\n               re-elected\\n              </a>\\n             </b>\\n             to a\\n             <a href=\"/wiki/Minority_government\" title=\"Minority government\">\\n              minority government\\n             </a>\\n             .\\n            </li>\\n            <li>\\n             Former\\n             <a href=\"/wiki/President_of_Algeria\" title=\"President of Algeria\">\\n              President of Algeria\\n             </a>\\n             <b>\\n              <a href=\"/wiki/Abdelaziz_Bouteflika\" title=\"Abdelaziz Bouteflika\">\\n               Abdelaziz Bouteflika\\n              </a>\\n             </b>\\n             dies at the age of 84.\\n            </li>\\n           </ul>\\n           <div class=\"itn-footer\" style=\"margin-top: 0.5em;\">\\n            <div>\\n             <b>\\n              <a href=\"/wiki/Portal:Current_events\" title=\"Portal:Current events\">\\n               Ongoing\\n              </a>\\n             </b>\\n             :\\n             <div class=\"hlist hlist-separated inline\">\\n              <ul>\\n               <li>\\n                <a href=\"/wiki/COVID-19_pandemic\" title=\"COVID-19 pandemic\">\\n                 COVID-19 pandemic\\n                </a>\\n               </li>\\n              </ul>\\n             </div>\\n            </div>\\n            <div>\\n             <b>\\n              <a href=\"/wiki/Deaths_in_2021\" title=\"Deaths in 2021\">\\n               Recent deaths\\n              </a>\\n             </b>\\n             :\\n             <div class=\"hlist hlist-separated inline\">\\n              <ul>\\n               <li>\\n                <a href=\"/wiki/Roger_Hunt\" title=\"Roger Hunt\">\\n                 Roger Hunt\\n                </a>\\n               </li>\\n               <li>\\n                <a href=\"/wiki/Caressing_(horse)\" title=\"Caressing (horse)\">\\n                 Caressing\\n                </a>\\n               </li>\\n               <li>\\n                <span class=\"nowrap\">\\n                 <a href=\"/wiki/Charles_W._Mills\" title=\"Charles W. Mills\">\\n                  Charles W. Mills\\n                 </a>\\n                </span>\\n               </li>\\n               <li>\\n                <a href=\"/wiki/Len_Ashurst\" title=\"Len Ashurst\">\\n                 Len Ashurst\\n                </a>\\n               </li>\\n               <li>\\n                <a href=\"/wiki/Marcia_Freedman\" title=\"Marcia Freedman\">\\n                 Marcia Freedman\\n                </a>\\n               </li>\\n               <li>\\n                <a href=\"/wiki/Helmut_Oberlander\" title=\"Helmut Oberlander\">\\n                 Helmut Oberlander\\n                </a>\\n               </li>\\n              </ul>\\n             </div>\\n            </div>\\n           </div>\\n           <div class=\"itn-footer hlist hlist-separated noprint\" style=\"text-align: right;\">\\n            <ul>\\n             <li>\\n              <b>\\n               <a href=\"/wiki/Wikipedia:In_the_news/Candidates\" title=\"Wikipedia:In the news/Candidates\">\\n                Nominate an article\\n               </a>\\n              </b>\\n             </li>\\n            </ul>\\n           </div>\\n          </div>\\n          <h2 class=\"mp-h2\" id=\"mp-otd-h2\">\\n           <span class=\"mw-headline\" id=\"On_this_day\">\\n            On this day\\n           </span>\\n          </h2>\\n          <div id=\"mp-otd\">\\n           <p>\\n            <b>\\n             <a href=\"/wiki/September_29\" title=\"September 29\">\\n              September 29\\n             </a>\\n            </b>\\n            :\\n            <b>\\n             <a href=\"/wiki/Michaelmas\" title=\"Michaelmas\">\\n              Michaelmas\\n             </a>\\n            </b>\\n            (Western Christianity)\\n           </p>\\n           <div id=\"mp-otd-img\" style=\"float:right;margin-left:0.5em;\">\\n            <div class=\"thumbinner mp-thumb\" style=\"background: transparent; border: none; padding: 0; max-width: 162px;\">\\n             <a class=\"image\" href=\"/wiki/File:New_Scotland_Yard_%C2%A6_Embankment_Chic_%3F_(33219232590).jpg\" title=\"New Scotland Yard, the Metropolitan Police headquarters\">\\n              <img alt=\"New Scotland Yard, the Metropolitan Police headquarters\" data-file-height=\"1008\" data-file-width=\"1344\" decoding=\"async\" height=\"122\" src=\"//upload.wikimedia.org/wikipedia/commons/thumb/e/e3/New_Scotland_Yard_%C2%A6_Embankment_Chic_%3F_%2833219232590%29.jpg/162px-New_Scotland_Yard_%C2%A6_Embankment_Chic_%3F_%2833219232590%29.jpg\" srcset=\"//upload.wikimedia.org/wikipedia/commons/thumb/e/e3/New_Scotland_Yard_%C2%A6_Embankment_Chic_%3F_%2833219232590%29.jpg/243px-New_Scotland_Yard_%C2%A6_Embankment_Chic_%3F_%2833219232590%29.jpg 1.5x, //upload.wikimedia.org/wikipedia/commons/thumb/e/e3/New_Scotland_Yard_%C2%A6_Embankment_Chic_%3F_%2833219232590%29.jpg/324px-New_Scotland_Yard_%C2%A6_Embankment_Chic_%3F_%2833219232590%29.jpg 2x\" width=\"162\"/>\\n             </a>\\n             <div class=\"thumbcaption\" style=\"padding: 0.25em 0; word-wrap: break-word;\">\\n              <a href=\"/wiki/Scotland_Yard\" title=\"Scotland Yard\">\\n               New Scotland Yard\\n              </a>\\n              , the Metropolitan Police headquarters\\n             </div>\\n            </div>\\n           </div>\\n           <ul>\\n            <li>\\n             <a href=\"/wiki/1714\" title=\"1714\">\\n              1714\\n             </a>\\n             – During the\\n             <b>\\n              <a href=\"/wiki/Finland_during_the_Great_Northern_War\" title=\"Finland during the Great Northern War\">\\n               Russian occupation of Finland\\n              </a>\\n             </b>\\n             ,\\n             <a href=\"/wiki/Cossacks\" title=\"Cossacks\">\\n              Cossacks\\n             </a>\\n             killed about 800 inhabitants of the island of\\n             <a href=\"/wiki/Hailuoto\" title=\"Hailuoto\">\\n              Hailuoto\\n             </a>\\n             with axes.\\n            </li>\\n            <li>\\n             <a href=\"/wiki/1829\" title=\"1829\">\\n              1829\\n             </a>\\n             – The\\n             <b>\\n              <a href=\"/wiki/Metropolitan_Police\" title=\"Metropolitan Police\">\\n               Metropolitan Police\\n              </a>\\n             </b>\\n             <i>\\n              (headquarters pictured)\\n             </i>\\n             of\\n             <a href=\"/wiki/Greater_London\" title=\"Greater London\">\\n              Greater London\\n             </a>\\n             , originally headquartered in\\n             <a href=\"/wiki/Great_Scotland_Yard\" title=\"Great Scotland Yard\">\\n              Great Scotland Yard\\n             </a>\\n             ,\\n             <a href=\"/wiki/Westminster\" title=\"Westminster\">\\n              Westminster\\n             </a>\\n             , was founded.\\n            </li>\\n            <li>\\n             <a href=\"/wiki/1941\" title=\"1941\">\\n              1941\\n             </a>\\n             –\\n             <a href=\"/wiki/The_Holocaust\" title=\"The Holocaust\">\\n              The Holocaust\\n             </a>\\n             : Nazi forces, aided by\\n             <a href=\"/wiki/Collaboration_in_German-occupied_Ukraine\" title=\"Collaboration in German-occupied Ukraine\">\\n              Ukrainian collaborators\\n             </a>\\n             , began\\n             <b>\\n              <a href=\"/wiki/Babi_Yar\" title=\"Babi Yar\">\\n               a massacre of Jews\\n              </a>\\n             </b>\\n             in a ravine in Kyiv, killing more than 30,000 civilians in two days and thousands more in the following months.\\n            </li>\\n            <li>\\n             <a href=\"/wiki/1954\" title=\"1954\">\\n              1954\\n             </a>\\n             –\\n             <a href=\"/wiki/Willie_Mays\" title=\"Willie Mays\">\\n              Willie Mays\\n             </a>\\n             of the\\n             <a href=\"/wiki/San_Francisco_Giants\" title=\"San Francisco Giants\">\\n              New York Giants\\n             </a>\\n             made\\n             <b>\\n              <a href=\"/wiki/The_Catch_(baseball)\" title=\"The Catch (baseball)\">\\n               The Catch\\n              </a>\\n             </b>\\n             , one of the most famous defensive plays in the history of\\n             <a href=\"/wiki/Major_League_Baseball\" title=\"Major League Baseball\">\\n              Major League Baseball\\n             </a>\\n             .\\n            </li>\\n            <li>\\n             <a href=\"/wiki/1991\" title=\"1991\">\\n              1991\\n             </a>\\n             – The award-winning\\n             <a href=\"/wiki/The_Walt_Disney_Company\" title=\"The Walt Disney Company\">\\n              Disney\\n             </a>\\n             animated film\\n             <i>\\n              <b>\\n               <a href=\"/wiki/Beauty_and_the_Beast_(1991_film)\" title=\"Beauty and the Beast (1991 film)\">\\n                Beauty and the Beast\\n               </a>\\n              </b>\\n             </i>\\n             premiered as an unfinished film at the\\n             <a href=\"/wiki/New_York_Film_Festival\" title=\"New York Film Festival\">\\n              New York Film Festival\\n             </a>\\n             .\\n            </li>\\n           </ul>\\n           <div class=\"hlist hlist-separated\" style=\"margin-top: 0.5em;\">\\n            <ul>\\n             <li>\\n              <b>\\n               <a href=\"/wiki/Arnaud_Amalric\" title=\"Arnaud Amalric\">\\n                Arnaud Amalric\\n               </a>\\n              </b>\\n              (\\n              <abbr title=\"died\">\\n               d.\\n              </abbr>\\n              1225)\\n             </li>\\n             <li>\\n              <b>\\n               <a href=\"/wiki/Elizabeth_Gaskell\" title=\"Elizabeth Gaskell\">\\n                Elizabeth Gaskell\\n               </a>\\n              </b>\\n              (\\n              <abbr title=\"born\">\\n               b.\\n              </abbr>\\n              1810)\\n             </li>\\n             <li>\\n              <b>\\n               <a href=\"/wiki/Bill_Shankly\" title=\"Bill Shankly\">\\n                Bill Shankly\\n               </a>\\n              </b>\\n              (\\n              <abbr title=\"died\">\\n               d.\\n              </abbr>\\n              1981)\\n             </li>\\n            </ul>\\n           </div>\\n           <div style=\"margin-top: 0.5em;\">\\n            More anniversaries:\\n            <div class=\"hlist hlist-separated inline nowraplinks\">\\n             <ul>\\n              <li>\\n               <a href=\"/wiki/September_28\" title=\"September 28\">\\n                September 28\\n               </a>\\n              </li>\\n              <li>\\n               <b>\\n                <a href=\"/wiki/September_29\" title=\"September 29\">\\n                 September 29\\n                </a>\\n               </b>\\n              </li>\\n              <li>\\n               <a href=\"/wiki/September_30\" title=\"September 30\">\\n                September 30\\n               </a>\\n              </li>\\n             </ul>\\n            </div>\\n           </div>\\n           <div class=\"otd-footer hlist hlist-separated noprint\" style=\"text-align: right;\">\\n            <ul>\\n             <li>\\n              <b>\\n               <a href=\"/wiki/Wikipedia:Selected_anniversaries/September\" title=\"Wikipedia:Selected anniversaries/September\">\\n                Archive\\n               </a>\\n              </b>\\n             </li>\\n             <li>\\n              <b>\\n               <a class=\"extiw\" href=\"https://lists.wikimedia.org/mailman/listinfo/daily-article-l\" title=\"mail:daily-article-l\">\\n                By email\\n               </a>\\n              </b>\\n             </li>\\n             <li>\\n              <b>\\n               <a href=\"/wiki/List_of_days_of_the_year\" title=\"List of days of the year\">\\n                List of days of the year\\n               </a>\\n              </b>\\n             </li>\\n            </ul>\\n           </div>\\n          </div>\\n         </td>\\n        </tr>\\n       </tbody>\\n      </table>\\n      <div class=\"MainPageBG mp-bordered\" id=\"mp-lower\">\\n       <div id=\"mp-bottom\">\\n        <h2 class=\"mp-h2\" id=\"mp-tfp-h2\">\\n         <span id=\"Today.27s_featured_picture\">\\n         </span>\\n         <span class=\"mw-headline\" id=\"Today\\'s_featured_picture\">\\n          Today\\'s featured picture\\n         </span>\\n        </h2>\\n        <div id=\"mp-tfp\">\\n         <table role=\"presentation\" style=\"margin:0 3px 3px; width:100%; box-sizing:border-box; text-align:left; background-color:transparent; border-collapse:collapse;\">\\n          <tbody>\\n           <tr>\\n            <td style=\"padding:0 0.9em 0 0; width:400px;\">\\n             <a class=\"image\" href=\"/wiki/File:Parson%27s_chameleon_(Calumma_parsonii_cristifer)_female_Andasibe_2.jpg\" title=\"Parson\\'s chameleon\">\\n              <img alt=\"Parson\\'s chameleon\" data-file-height=\"3085\" data-file-width=\"4627\" decoding=\"async\" height=\"267\" src=\"//upload.wikimedia.org/wikipedia/commons/thumb/2/2f/Parson%27s_chameleon_%28Calumma_parsonii_cristifer%29_female_Andasibe_2.jpg/400px-Parson%27s_chameleon_%28Calumma_parsonii_cristifer%29_female_Andasibe_2.jpg\" srcset=\"//upload.wikimedia.org/wikipedia/commons/thumb/2/2f/Parson%27s_chameleon_%28Calumma_parsonii_cristifer%29_female_Andasibe_2.jpg/600px-Parson%27s_chameleon_%28Calumma_parsonii_cristifer%29_female_Andasibe_2.jpg 1.5x, //upload.wikimedia.org/wikipedia/commons/thumb/2/2f/Parson%27s_chameleon_%28Calumma_parsonii_cristifer%29_female_Andasibe_2.jpg/800px-Parson%27s_chameleon_%28Calumma_parsonii_cristifer%29_female_Andasibe_2.jpg 2x\" width=\"400\"/>\\n             </a>\\n            </td>\\n            <td style=\"padding:0 6px 0 0\">\\n             <p>\\n              <b>\\n               <a href=\"/wiki/Parson%27s_chameleon\" title=\"Parson\\'s chameleon\">\\n                Parson\\'s chameleon\\n               </a>\\n              </b>\\n              (\\n              <i>\\n               Calumma parsonii\\n              </i>\\n              ) is a large\\n              <a href=\"/wiki/Species\" title=\"Species\">\\n               species\\n              </a>\\n              of\\n              <a href=\"/wiki/Chameleon\" title=\"Chameleon\">\\n               chameleon\\n              </a>\\n              , a lizard in the\\n              <a href=\"/wiki/Family_(biology)\" title=\"Family (biology)\">\\n               family\\n              </a>\\n              <a href=\"/wiki/Chameleon\" title=\"Chameleon\">\\n               Chamaeleonidae\\n              </a>\\n              . The species is\\n              <a href=\"/wiki/Endemism\" title=\"Endemism\">\\n               endemic\\n              </a>\\n              to isolated pockets of humid\\n              <a href=\"/wiki/Old-growth_forest\" title=\"Old-growth forest\">\\n               primary forest\\n              </a>\\n              in eastern and northern Madagascar. It is listed on\\n              <a href=\"/wiki/CITES\" title=\"CITES\">\\n               CITES\\n              </a>\\n              Appendix\\xa0II, meaning that trade in this species is regulated. While it is illegal for most chameleon species from Madagascar to be exported, a limited number of Parson\\'s chameleons can legally be exported each year from its native country. This female Parson\\'s chameleon of the subspecies\\n              <i>\\n               C.\\xa0p.\\xa0cristifer\\n              </i>\\n              was photographed near\\n              <a href=\"/wiki/Andasibe,_Moramanga\" title=\"Andasibe, Moramanga\">\\n               Andasibe, Moramanga\\n              </a>\\n              .\\n             </p>\\n             <p style=\"text-align:left;\">\\n              <small>\\n               Photograph credit:\\n               <a href=\"/wiki/User:Charlesjsharp\" title=\"User:Charlesjsharp\">\\n                Charles James Sharp\\n               </a>\\n              </small>\\n             </p>\\n             <div class=\"potd-recent\" style=\"text-align:right;\">\\n              Recently featured:\\n              <div class=\"hlist hlist-separated inline\">\\n               <ul>\\n                <li>\\n                 <a href=\"/wiki/Template:POTD/2021-09-28\" title=\"Template:POTD/2021-09-28\">\\n                  Atari\\xa02600\\n                 </a>\\n                </li>\\n                <li>\\n                 <a href=\"/wiki/Template:POTD/2021-09-27\" title=\"Template:POTD/2021-09-27\">\\n                  War pigeon\\n                 </a>\\n                </li>\\n                <li>\\n                 <a href=\"/wiki/Template:POTD/2021-09-26\" title=\"Template:POTD/2021-09-26\">\\n                  Santi Giovanni e Paolo al Celio\\n                 </a>\\n                </li>\\n               </ul>\\n              </div>\\n             </div>\\n             <div class=\"potd-footer hlist hlist-separated noprint\" style=\"text-align:right;\">\\n              <ul>\\n               <li>\\n                <b>\\n                 <a href=\"/wiki/Wikipedia:Picture_of_the_day/Archive\" title=\"Wikipedia:Picture of the day/Archive\">\\n                  Archive\\n                 </a>\\n                </b>\\n               </li>\\n               <li>\\n                <b>\\n                 <a href=\"/wiki/Wikipedia:Featured_pictures\" title=\"Wikipedia:Featured pictures\">\\n                  More featured pictures\\n                 </a>\\n                </b>\\n               </li>\\n              </ul>\\n             </div>\\n            </td>\\n           </tr>\\n          </tbody>\\n         </table>\\n        </div>\\n       </div>\\n      </div>\\n      <div class=\"mp-bordered\" id=\"mp-other-lower\">\\n       <h2 class=\"mp-h2\" id=\"mp-other\">\\n        <span class=\"mw-headline\" id=\"Other_areas_of_Wikipedia\">\\n         Other areas of Wikipedia\\n        </span>\\n       </h2>\\n       <div id=\"mp-other-content\">\\n        <ul>\\n         <li>\\n          <b>\\n           <a href=\"/wiki/Wikipedia:Community_portal\" title=\"Wikipedia:Community portal\">\\n            Community portal\\n           </a>\\n          </b>\\n          – Bulletin board, projects, resources and activities covering a wide range of Wikipedia areas.\\n         </li>\\n         <li>\\n          <b>\\n           <a href=\"/wiki/Wikipedia:Help_desk\" title=\"Wikipedia:Help desk\">\\n            Help desk\\n           </a>\\n          </b>\\n          – Ask questions about using Wikipedia.\\n         </li>\\n         <li>\\n          <b>\\n           <a href=\"/wiki/Wikipedia:Reference_desk\" title=\"Wikipedia:Reference desk\">\\n            Reference desk\\n           </a>\\n          </b>\\n          – Serving as virtual librarians, Wikipedia volunteers tackle your questions on a wide range of subjects.\\n         </li>\\n         <li>\\n          <b>\\n           <a href=\"/wiki/Wikipedia:News\" title=\"Wikipedia:News\">\\n            Site news\\n           </a>\\n          </b>\\n          – Announcements, updates, articles and press releases on Wikipedia and the Wikimedia Foundation.\\n         </li>\\n         <li>\\n          <b>\\n           <a href=\"/wiki/Wikipedia:Village_pump\" title=\"Wikipedia:Village pump\">\\n            Village pump\\n           </a>\\n          </b>\\n          – For discussions about Wikipedia itself, including areas for technical issues and policies.\\n         </li>\\n        </ul>\\n       </div>\\n       <h2 class=\"mp-h2\" id=\"mp-sister\">\\n        <span id=\"Wikipedia.27s_sister_projects\">\\n        </span>\\n        <span class=\"mw-headline\" id=\"Wikipedia\\'s_sister_projects\">\\n         Wikipedia\\'s sister projects\\n        </span>\\n       </h2>\\n       <div id=\"mp-sister-content\">\\n        <style data-mw-deduplicate=\"TemplateStyles:r1007624485\">\\n         .mw-parser-output #sister-projects-list{display:flex;flex-wrap:wrap}.mw-parser-output #sister-projects-list li{display:inline-block}.mw-parser-output #sister-projects-list li span{font-weight:bold}.mw-parser-output #sister-projects-list li>div{display:inline-block;vertical-align:middle;padding:6px 4px}.mw-parser-output #sister-projects-list li>div:first-child{text-align:center}@media(min-width:360px){.mw-parser-output #sister-projects-list li{width:33%;min-width:20em;white-space:nowrap;flex:1 0 25%}.mw-parser-output #sister-projects-list li>div:first-child{min-width:50px}}\\n        </style>\\n        <p>\\n         Wikipedia is hosted by the\\n         <a href=\"/wiki/Wikimedia_Foundation\" title=\"Wikimedia Foundation\">\\n          Wikimedia Foundation\\n         </a>\\n         , a non-profit organization that also hosts a range of other\\n         <a class=\"extiw\" href=\"https://wikimediafoundation.org/our-work/wikimedia-projects/\" title=\"foundationsite:our-work/wikimedia-projects/\">\\n          projects\\n         </a>\\n         :\\n        </p>\\n        <div class=\"plainlist\">\\n         <ul id=\"sister-projects-list\">\\n          <li>\\n           <div>\\n            <a href=\"https://commons.wikimedia.org/wiki/\" title=\"Commons\">\\n             <img alt=\"Commons logo\" data-file-height=\"1376\" data-file-width=\"1024\" decoding=\"async\" height=\"42\" src=\"//upload.wikimedia.org/wikipedia/en/thumb/4/4a/Commons-logo.svg/31px-Commons-logo.svg.png\" srcset=\"//upload.wikimedia.org/wikipedia/en/thumb/4/4a/Commons-logo.svg/47px-Commons-logo.svg.png 1.5x, //upload.wikimedia.org/wikipedia/en/thumb/4/4a/Commons-logo.svg/62px-Commons-logo.svg.png 2x\" width=\"31\"/>\\n            </a>\\n           </div>\\n           <div>\\n            <span>\\n             <a class=\"extiw\" href=\"https://commons.wikimedia.org/wiki/\" title=\"c:\">\\n              Commons\\n             </a>\\n            </span>\\n            <br/>\\n            Free media repository\\n           </div>\\n          </li>\\n          <li>\\n           <div>\\n            <a href=\"https://www.mediawiki.org/wiki/\" title=\"MediaWiki\">\\n             <img alt=\"MediaWiki logo\" data-file-height=\"100\" data-file-width=\"100\" decoding=\"async\" height=\"35\" src=\"//upload.wikimedia.org/wikipedia/commons/thumb/a/a6/MediaWiki-2020-icon.svg/35px-MediaWiki-2020-icon.svg.png\" srcset=\"//upload.wikimedia.org/wikipedia/commons/thumb/a/a6/MediaWiki-2020-icon.svg/53px-MediaWiki-2020-icon.svg.png 1.5x, //upload.wikimedia.org/wikipedia/commons/thumb/a/a6/MediaWiki-2020-icon.svg/70px-MediaWiki-2020-icon.svg.png 2x\" width=\"35\"/>\\n            </a>\\n           </div>\\n           <div>\\n            <span>\\n             <a class=\"extiw\" href=\"https://www.mediawiki.org/wiki/\" title=\"mw:\">\\n              MediaWiki\\n             </a>\\n            </span>\\n            <br/>\\n            Wiki software development\\n           </div>\\n          </li>\\n          <li>\\n           <div>\\n            <a href=\"https://meta.wikimedia.org/wiki/\" title=\"Meta-Wiki\">\\n             <img alt=\"Meta-Wiki logo\" data-file-height=\"900\" data-file-width=\"900\" decoding=\"async\" height=\"35\" src=\"//upload.wikimedia.org/wikipedia/commons/thumb/7/75/Wikimedia_Community_Logo.svg/35px-Wikimedia_Community_Logo.svg.png\" srcset=\"//upload.wikimedia.org/wikipedia/commons/thumb/7/75/Wikimedia_Community_Logo.svg/53px-Wikimedia_Community_Logo.svg.png 1.5x, //upload.wikimedia.org/wikipedia/commons/thumb/7/75/Wikimedia_Community_Logo.svg/70px-Wikimedia_Community_Logo.svg.png 2x\" width=\"35\"/>\\n            </a>\\n           </div>\\n           <div>\\n            <span>\\n             <a class=\"extiw\" href=\"https://meta.wikimedia.org/wiki/\" title=\"m:\">\\n              Meta-Wiki\\n             </a>\\n            </span>\\n            <br/>\\n            Wikimedia project coordination\\n           </div>\\n          </li>\\n          <li>\\n           <div>\\n            <a href=\"https://en.wikibooks.org/wiki/\" title=\"Wikibooks\">\\n             <img alt=\"Wikibooks logo\" data-file-height=\"300\" data-file-width=\"300\" decoding=\"async\" height=\"35\" src=\"//upload.wikimedia.org/wikipedia/commons/thumb/f/fa/Wikibooks-logo.svg/35px-Wikibooks-logo.svg.png\" srcset=\"//upload.wikimedia.org/wikipedia/commons/thumb/f/fa/Wikibooks-logo.svg/53px-Wikibooks-logo.svg.png 1.5x, //upload.wikimedia.org/wikipedia/commons/thumb/f/fa/Wikibooks-logo.svg/70px-Wikibooks-logo.svg.png 2x\" width=\"35\"/>\\n            </a>\\n           </div>\\n           <div>\\n            <span>\\n             <a class=\"extiw\" href=\"https://en.wikibooks.org/wiki/\" title=\"b:\">\\n              Wikibooks\\n             </a>\\n            </span>\\n            <br/>\\n            Free textbooks and manuals\\n           </div>\\n          </li>\\n          <li>\\n           <div>\\n            <a href=\"https://www.wikidata.org/wiki/\" title=\"Wikidata\">\\n             <img alt=\"Wikidata logo\" data-file-height=\"590\" data-file-width=\"1050\" decoding=\"async\" height=\"26\" src=\"//upload.wikimedia.org/wikipedia/commons/thumb/f/ff/Wikidata-logo.svg/47px-Wikidata-logo.svg.png\" srcset=\"//upload.wikimedia.org/wikipedia/commons/thumb/f/ff/Wikidata-logo.svg/71px-Wikidata-logo.svg.png 1.5x, //upload.wikimedia.org/wikipedia/commons/thumb/f/ff/Wikidata-logo.svg/94px-Wikidata-logo.svg.png 2x\" width=\"47\"/>\\n            </a>\\n           </div>\\n           <div>\\n            <span>\\n             <a class=\"extiw\" href=\"https://www.wikidata.org/wiki/\" title=\"d:\">\\n              Wikidata\\n             </a>\\n            </span>\\n            <br/>\\n            Free knowledge base\\n           </div>\\n          </li>\\n          <li>\\n           <div>\\n            <a href=\"https://en.wikinews.org/wiki/\" title=\"Wikinews\">\\n             <img alt=\"Wikinews logo\" data-file-height=\"415\" data-file-width=\"759\" decoding=\"async\" height=\"28\" src=\"//upload.wikimedia.org/wikipedia/commons/thumb/2/24/Wikinews-logo.svg/51px-Wikinews-logo.svg.png\" srcset=\"//upload.wikimedia.org/wikipedia/commons/thumb/2/24/Wikinews-logo.svg/77px-Wikinews-logo.svg.png 1.5x, //upload.wikimedia.org/wikipedia/commons/thumb/2/24/Wikinews-logo.svg/102px-Wikinews-logo.svg.png 2x\" width=\"51\"/>\\n            </a>\\n           </div>\\n           <div>\\n            <span>\\n             <a class=\"extiw\" href=\"https://en.wikinews.org/wiki/\" title=\"n:\">\\n              Wikinews\\n             </a>\\n            </span>\\n            <br/>\\n            Free-content news\\n           </div>\\n          </li>\\n          <li>\\n           <div>\\n            <a href=\"https://en.wikiquote.org/wiki/\" title=\"Wikiquote\">\\n             <img alt=\"Wikiquote logo\" data-file-height=\"355\" data-file-width=\"300\" decoding=\"async\" height=\"41\" src=\"//upload.wikimedia.org/wikipedia/commons/thumb/f/fa/Wikiquote-logo.svg/35px-Wikiquote-logo.svg.png\" srcset=\"//upload.wikimedia.org/wikipedia/commons/thumb/f/fa/Wikiquote-logo.svg/53px-Wikiquote-logo.svg.png 1.5x, //upload.wikimedia.org/wikipedia/commons/thumb/f/fa/Wikiquote-logo.svg/70px-Wikiquote-logo.svg.png 2x\" width=\"35\"/>\\n            </a>\\n           </div>\\n           <div>\\n            <span>\\n             <a class=\"extiw\" href=\"https://en.wikiquote.org/wiki/\" title=\"q:\">\\n              Wikiquote\\n             </a>\\n            </span>\\n            <br/>\\n            Collection of quotations\\n           </div>\\n          </li>\\n          <li>\\n           <div>\\n            <a href=\"https://en.wikisource.org/wiki/\" title=\"Wikisource\">\\n             <img alt=\"Wikisource logo\" data-file-height=\"430\" data-file-width=\"410\" decoding=\"async\" height=\"37\" src=\"//upload.wikimedia.org/wikipedia/commons/thumb/4/4c/Wikisource-logo.svg/35px-Wikisource-logo.svg.png\" srcset=\"//upload.wikimedia.org/wikipedia/commons/thumb/4/4c/Wikisource-logo.svg/53px-Wikisource-logo.svg.png 1.5x, //upload.wikimedia.org/wikipedia/commons/thumb/4/4c/Wikisource-logo.svg/70px-Wikisource-logo.svg.png 2x\" width=\"35\"/>\\n            </a>\\n           </div>\\n           <div>\\n            <span>\\n             <a class=\"extiw\" href=\"https://en.wikisource.org/wiki/\" title=\"s:\">\\n              Wikisource\\n             </a>\\n            </span>\\n            <br/>\\n            Free-content library\\n           </div>\\n          </li>\\n          <li>\\n           <div>\\n            <a href=\"https://species.wikimedia.org/wiki/\" title=\"Wikispecies\">\\n             <img alt=\"Wikispecies logo\" data-file-height=\"1103\" data-file-width=\"941\" decoding=\"async\" height=\"41\" src=\"//upload.wikimedia.org/wikipedia/commons/thumb/d/df/Wikispecies-logo.svg/35px-Wikispecies-logo.svg.png\" srcset=\"//upload.wikimedia.org/wikipedia/commons/thumb/d/df/Wikispecies-logo.svg/53px-Wikispecies-logo.svg.png 1.5x, //upload.wikimedia.org/wikipedia/commons/thumb/d/df/Wikispecies-logo.svg/70px-Wikispecies-logo.svg.png 2x\" width=\"35\"/>\\n            </a>\\n           </div>\\n           <div>\\n            <span>\\n             <a class=\"extiw\" href=\"https://species.wikimedia.org/wiki/\" title=\"species:\">\\n              Wikispecies\\n             </a>\\n            </span>\\n            <br/>\\n            Directory of species\\n           </div>\\n          </li>\\n          <li>\\n           <div>\\n            <a href=\"https://en.wikiversity.org/wiki/\" title=\"Wikiversity\">\\n             <img alt=\"Wikiversity logo\" data-file-height=\"512\" data-file-width=\"626\" decoding=\"async\" height=\"34\" src=\"//upload.wikimedia.org/wikipedia/commons/thumb/0/0b/Wikiversity_logo_2017.svg/41px-Wikiversity_logo_2017.svg.png\" srcset=\"//upload.wikimedia.org/wikipedia/commons/thumb/0/0b/Wikiversity_logo_2017.svg/62px-Wikiversity_logo_2017.svg.png 1.5x, //upload.wikimedia.org/wikipedia/commons/thumb/0/0b/Wikiversity_logo_2017.svg/82px-Wikiversity_logo_2017.svg.png 2x\" width=\"41\"/>\\n            </a>\\n           </div>\\n           <div>\\n            <span>\\n             <a class=\"extiw\" href=\"https://en.wikiversity.org/wiki/\" title=\"v:\">\\n              Wikiversity\\n             </a>\\n            </span>\\n            <br/>\\n            Free learning tools\\n           </div>\\n          </li>\\n          <li>\\n           <div>\\n            <a href=\"https://en.wikivoyage.org/wiki/\" title=\"Wikivoyage\">\\n             <img alt=\"Wikivoyage logo\" data-file-height=\"193\" data-file-width=\"193\" decoding=\"async\" height=\"35\" src=\"//upload.wikimedia.org/wikipedia/commons/thumb/d/dd/Wikivoyage-Logo-v3-icon.svg/35px-Wikivoyage-Logo-v3-icon.svg.png\" srcset=\"//upload.wikimedia.org/wikipedia/commons/thumb/d/dd/Wikivoyage-Logo-v3-icon.svg/53px-Wikivoyage-Logo-v3-icon.svg.png 1.5x, //upload.wikimedia.org/wikipedia/commons/thumb/d/dd/Wikivoyage-Logo-v3-icon.svg/70px-Wikivoyage-Logo-v3-icon.svg.png 2x\" width=\"35\"/>\\n            </a>\\n           </div>\\n           <div>\\n            <span>\\n             <a class=\"extiw\" href=\"https://en.wikivoyage.org/wiki/\" title=\"voy:\">\\n              Wikivoyage\\n             </a>\\n            </span>\\n            <br/>\\n            Free travel guide\\n           </div>\\n          </li>\\n          <li>\\n           <div>\\n            <a href=\"https://en.wiktionary.org/wiki/\" title=\"Wiktionary\">\\n             <img alt=\"Wiktionary logo\" data-file-height=\"391\" data-file-width=\"391\" decoding=\"async\" height=\"35\" src=\"//upload.wikimedia.org/wikipedia/en/thumb/0/06/Wiktionary-logo-v2.svg/35px-Wiktionary-logo-v2.svg.png\" srcset=\"//upload.wikimedia.org/wikipedia/en/thumb/0/06/Wiktionary-logo-v2.svg/53px-Wiktionary-logo-v2.svg.png 1.5x, //upload.wikimedia.org/wikipedia/en/thumb/0/06/Wiktionary-logo-v2.svg/70px-Wiktionary-logo-v2.svg.png 2x\" width=\"35\"/>\\n            </a>\\n           </div>\\n           <div>\\n            <span>\\n             <a class=\"extiw\" href=\"https://en.wiktionary.org/wiki/\" title=\"wikt:\">\\n              Wiktionary\\n             </a>\\n            </span>\\n            <br/>\\n            Dictionary and thesaurus\\n           </div>\\n          </li>\\n         </ul>\\n        </div>\\n       </div>\\n       <h2 class=\"mp-h2\" id=\"mp-lang\">\\n        <span class=\"mw-headline\" id=\"Wikipedia_languages\">\\n         Wikipedia languages\\n        </span>\\n       </h2>\\n       <div>\\n        <style data-mw-deduplicate=\"TemplateStyles:r997272951\">\\n         .mw-parser-output .wikipedia-languages-complete{font-weight:bold}.mw-parser-output .wikipedia-languages ul{margin-left:0}.mw-parser-output .wikipedia-languages ul a{white-space:nowrap}.mw-parser-output .wikipedia-languages>ul{list-style:none;text-align:center;clear:both}.mw-parser-output .wikipedia-languages-count-container{width:90%;display:flex;justify-content:center;padding-top:1em;margin:0 auto}.mw-parser-output .wikipedia-languages-prettybars{width:100%;height:1px;margin:0.5em 0;background-color:#c8ccd1;flex-shrink:1;align-self:center}.mw-parser-output .wikipedia-languages-count{padding:0 1em;white-space:nowrap}\\n        </style>\\n        <div class=\"wikipedia-languages nourlexpansion\">\\n         <p>\\n          This Wikipedia is written in\\n          <a href=\"/wiki/English_language\" title=\"English language\">\\n           English\\n          </a>\\n          . Many\\n          <a class=\"extiw\" href=\"https://meta.wikimedia.org/wiki/List_of_Wikipedias\" title=\"meta:List of Wikipedias\">\\n           other Wikipedias are available\\n          </a>\\n          ; some of the largest are listed below.\\n         </p>\\n         <ul class=\"plainlinks\">\\n          <li>\\n           <div class=\"wikipedia-languages-count-container\">\\n            <div class=\"wikipedia-languages-prettybars\">\\n            </div>\\n            <div class=\"wikipedia-languages-count\" role=\"heading\">\\n             1,000,000+ articles\\n            </div>\\n            <div class=\"wikipedia-languages-prettybars\">\\n            </div>\\n           </div>\\n           <ul class=\"wikipedia-languages-langs hlist hlist-separated inline\">\\n            <li>\\n             <a class=\"external text\" href=\"https://ar.wikipedia.org/wiki/\">\\n              <span class=\"autonym\" lang=\"ar\" title=\"Arabic (ar:)\">\\n               العربية\\n              </span>\\n             </a>\\n            </li>\\n            <li>\\n             <a class=\"external text\" href=\"https://de.wikipedia.org/wiki/\">\\n              <span class=\"autonym\" lang=\"de\" title=\"German (de:)\">\\n               Deutsch\\n              </span>\\n             </a>\\n            </li>\\n            <li>\\n             <a class=\"external text\" href=\"https://es.wikipedia.org/wiki/\">\\n              <span class=\"autonym\" lang=\"es\" title=\"Spanish (es:)\">\\n               Español\\n              </span>\\n             </a>\\n            </li>\\n            <li>\\n             <a class=\"external text\" href=\"https://fr.wikipedia.org/wiki/\">\\n              <span class=\"autonym\" lang=\"fr\" title=\"French (fr:)\">\\n               Français\\n              </span>\\n             </a>\\n            </li>\\n            <li>\\n             <a class=\"external text\" href=\"https://it.wikipedia.org/wiki/\">\\n              <span class=\"autonym\" lang=\"it\" title=\"Italian (it:)\">\\n               Italiano\\n              </span>\\n             </a>\\n            </li>\\n            <li>\\n             <a class=\"external text\" href=\"https://nl.wikipedia.org/wiki/\">\\n              <span class=\"autonym\" lang=\"nl\" title=\"Dutch (nl:)\">\\n               Nederlands\\n              </span>\\n             </a>\\n            </li>\\n            <li>\\n             <a class=\"external text\" href=\"https://ja.wikipedia.org/wiki/\">\\n              <span class=\"autonym\" lang=\"ja\" title=\"Japanese (ja:)\">\\n               日本語\\n              </span>\\n             </a>\\n            </li>\\n            <li>\\n             <a class=\"external text\" href=\"https://pl.wikipedia.org/wiki/\">\\n              <span class=\"autonym\" lang=\"pl\" title=\"Polish (pl:)\">\\n               Polski\\n              </span>\\n             </a>\\n            </li>\\n            <li>\\n             <a class=\"external text\" href=\"https://pt.wikipedia.org/wiki/\">\\n              <span class=\"autonym\" lang=\"pt\" title=\"Portuguese (pt:)\">\\n               Português\\n              </span>\\n             </a>\\n            </li>\\n            <li>\\n             <a class=\"external text\" href=\"https://ru.wikipedia.org/wiki/\">\\n              <span class=\"autonym\" lang=\"ru\" title=\"Russian (ru:)\">\\n               Русский\\n              </span>\\n             </a>\\n            </li>\\n            <li>\\n             <a class=\"external text\" href=\"https://sv.wikipedia.org/wiki/\">\\n              <span class=\"autonym\" lang=\"sv\" title=\"Swedish (sv:)\">\\n               Svenska\\n              </span>\\n             </a>\\n            </li>\\n            <li>\\n             <a class=\"external text\" href=\"https://uk.wikipedia.org/wiki/\">\\n              <span class=\"autonym\" lang=\"uk\" title=\"Ukrainian (uk:)\">\\n               Українська\\n              </span>\\n             </a>\\n            </li>\\n            <li>\\n             <a class=\"external text\" href=\"https://vi.wikipedia.org/wiki/\">\\n              <span class=\"autonym\" lang=\"vi\" title=\"Vietnamese (vi:)\">\\n               Tiếng Việt\\n              </span>\\n             </a>\\n            </li>\\n            <li>\\n             <a class=\"external text\" href=\"https://zh.wikipedia.org/wiki/\">\\n              <span class=\"autonym\" lang=\"zh\" title=\"Chinese (zh:)\">\\n               中文\\n              </span>\\n             </a>\\n            </li>\\n           </ul>\\n          </li>\\n          <li>\\n           <div class=\"wikipedia-languages-count-container\">\\n            <div class=\"wikipedia-languages-prettybars\">\\n            </div>\\n            <div class=\"wikipedia-languages-count\" role=\"heading\">\\n             250,000+ articles\\n            </div>\\n            <div class=\"wikipedia-languages-prettybars\">\\n            </div>\\n           </div>\\n           <ul class=\"wikipedia-languages-langs hlist hlist-separated inline\">\\n            <li>\\n             <a class=\"external text\" href=\"https://id.wikipedia.org/wiki/\">\\n              <span class=\"autonym\" lang=\"id\" title=\"Indonesian (id:)\">\\n               Bahasa Indonesia\\n              </span>\\n             </a>\\n            </li>\\n            <li>\\n             <a class=\"external text\" href=\"https://ms.wikipedia.org/wiki/\">\\n              <span class=\"autonym\" lang=\"ms\" title=\"Malay (ms:)\">\\n               Bahasa Melayu\\n              </span>\\n             </a>\\n            </li>\\n            <li>\\n             <a class=\"external text\" href=\"https://zh-min-nan.wikipedia.org/wiki/\">\\n              <span class=\"autonym\" lang=\"nan\" title=\"Min Nan Chinese (nan:)\">\\n               Bân-lâm-gú\\n              </span>\\n             </a>\\n            </li>\\n            <li>\\n             <a class=\"external text\" href=\"https://bg.wikipedia.org/wiki/\">\\n              <span class=\"autonym\" lang=\"bg\" title=\"Bulgarian (bg:)\">\\n               Български\\n              </span>\\n             </a>\\n            </li>\\n            <li>\\n             <a class=\"external text\" href=\"https://ca.wikipedia.org/wiki/\">\\n              <span class=\"autonym\" lang=\"ca\" title=\"Catalan (ca:)\">\\n               Català\\n              </span>\\n             </a>\\n            </li>\\n            <li>\\n             <a class=\"external text\" href=\"https://cs.wikipedia.org/wiki/\">\\n              <span class=\"autonym\" lang=\"cs\" title=\"Czech (cs:)\">\\n               Čeština\\n              </span>\\n             </a>\\n            </li>\\n            <li>\\n             <a class=\"external text\" href=\"https://da.wikipedia.org/wiki/\">\\n              <span class=\"autonym\" lang=\"da\" title=\"Danish (da:)\">\\n               Dansk\\n              </span>\\n             </a>\\n            </li>\\n            <li>\\n             <a class=\"external text\" href=\"https://eo.wikipedia.org/wiki/\">\\n              <span class=\"autonym\" lang=\"eo\" title=\"Esperanto (eo:)\">\\n               Esperanto\\n              </span>\\n             </a>\\n            </li>\\n            <li>\\n             <a class=\"external text\" href=\"https://eu.wikipedia.org/wiki/\">\\n              <span class=\"autonym\" lang=\"eu\" title=\"Basque (eu:)\">\\n               Euskara\\n              </span>\\n             </a>\\n            </li>\\n            <li>\\n             <a class=\"external text\" href=\"https://fa.wikipedia.org/wiki/\">\\n              <span class=\"autonym\" lang=\"fa\" title=\"Persian (fa:)\">\\n               فارسی\\n              </span>\\n             </a>\\n             \\u200e\\n            </li>\\n            <li>\\n             <a class=\"external text\" href=\"https://he.wikipedia.org/wiki/\">\\n              <span class=\"autonym\" lang=\"he\" title=\"Hebrew (he:)\">\\n               עברית\\n              </span>\\n             </a>\\n            </li>\\n            <li>\\n             <a class=\"external text\" href=\"https://ko.wikipedia.org/wiki/\">\\n              <span class=\"autonym\" lang=\"ko\" title=\"Korean (ko:)\">\\n               한국어\\n              </span>\\n             </a>\\n            </li>\\n            <li>\\n             <a class=\"external text\" href=\"https://hu.wikipedia.org/wiki/\">\\n              <span class=\"autonym\" lang=\"hu\" title=\"Hungarian (hu:)\">\\n               Magyar\\n              </span>\\n             </a>\\n            </li>\\n            <li>\\n             <a class=\"external text\" href=\"https://no.wikipedia.org/wiki/\">\\n              <span class=\"autonym\" lang=\"no\" title=\"Norwegian (no:)\">\\n               Norsk Bokmål\\n              </span>\\n             </a>\\n            </li>\\n            <li>\\n             <a class=\"external text\" href=\"https://ro.wikipedia.org/wiki/\">\\n              <span class=\"autonym\" lang=\"ro\" title=\"Romanian (ro:)\">\\n               Română\\n              </span>\\n             </a>\\n            </li>\\n            <li>\\n             <a class=\"external text\" href=\"https://sr.wikipedia.org/wiki/\">\\n              <span class=\"autonym\" lang=\"sr\" title=\"Serbian (sr:)\">\\n               Srpski\\n              </span>\\n             </a>\\n            </li>\\n            <li>\\n             <a class=\"external text\" href=\"https://sh.wikipedia.org/wiki/\">\\n              <span class=\"autonym\" lang=\"sh\" title=\"Serbo-Croatian (sh:)\">\\n               Srpskohrvatski\\n              </span>\\n             </a>\\n            </li>\\n            <li>\\n             <a class=\"external text\" href=\"https://fi.wikipedia.org/wiki/\">\\n              <span class=\"autonym\" lang=\"fi\" title=\"Finnish (fi:)\">\\n               Suomi\\n              </span>\\n             </a>\\n            </li>\\n            <li>\\n             <a class=\"external text\" href=\"https://tr.wikipedia.org/wiki/\">\\n              <span class=\"autonym\" lang=\"tr\" title=\"Turkish (tr:)\">\\n               Türkçe\\n              </span>\\n             </a>\\n            </li>\\n           </ul>\\n          </li>\\n          <li>\\n           <div class=\"wikipedia-languages-count-container\">\\n            <div class=\"wikipedia-languages-prettybars\">\\n            </div>\\n            <div class=\"wikipedia-languages-count\" role=\"heading\">\\n             50,000+ articles\\n            </div>\\n            <div class=\"wikipedia-languages-prettybars\">\\n            </div>\\n           </div>\\n           <ul class=\"wikipedia-languages-langs hlist hlist-separated inline\">\\n            <li>\\n             <a class=\"external text\" href=\"https://ast.wikipedia.org/wiki/\">\\n              <span class=\"autonym\" lang=\"ast\" title=\"Asturian (ast:)\">\\n               Asturianu\\n              </span>\\n             </a>\\n            </li>\\n            <li>\\n             <a class=\"external text\" href=\"https://bs.wikipedia.org/wiki/\">\\n              <span class=\"autonym\" lang=\"bs\" title=\"Bosnian (bs:)\">\\n               Bosanski\\n              </span>\\n             </a>\\n            </li>\\n            <li>\\n             <a class=\"external text\" href=\"https://et.wikipedia.org/wiki/\">\\n              <span class=\"autonym\" lang=\"et\" title=\"Estonian (et:)\">\\n               Eesti\\n              </span>\\n             </a>\\n            </li>\\n            <li>\\n             <a class=\"external text\" href=\"https://el.wikipedia.org/wiki/\">\\n              <span class=\"autonym\" lang=\"el\" title=\"Greek (el:)\">\\n               Ελληνικά\\n              </span>\\n             </a>\\n            </li>\\n            <li>\\n             <a class=\"external text\" href=\"https://simple.wikipedia.org/wiki/\">\\n              <span class=\"autonym\" lang=\"simple\" title=\"Simple English (simple:)\">\\n               Simple English\\n              </span>\\n             </a>\\n            </li>\\n            <li>\\n             <a class=\"external text\" href=\"https://gl.wikipedia.org/wiki/\">\\n              <span class=\"autonym\" lang=\"gl\" title=\"Galician (gl:)\">\\n               Galego\\n              </span>\\n             </a>\\n            </li>\\n            <li>\\n             <a class=\"external text\" href=\"https://hr.wikipedia.org/wiki/\">\\n              <span class=\"autonym\" lang=\"hr\" title=\"Croatian (hr:)\">\\n               Hrvatski\\n              </span>\\n             </a>\\n            </li>\\n            <li>\\n             <a class=\"external text\" href=\"https://lv.wikipedia.org/wiki/\">\\n              <span class=\"autonym\" lang=\"lv\" title=\"Latvian (lv:)\">\\n               Latviešu\\n              </span>\\n             </a>\\n            </li>\\n            <li>\\n             <a class=\"external text\" href=\"https://lt.wikipedia.org/wiki/\">\\n              <span class=\"autonym\" lang=\"lt\" title=\"Lithuanian (lt:)\">\\n               Lietuvių\\n              </span>\\n             </a>\\n            </li>\\n            <li>\\n             <a class=\"external text\" href=\"https://ml.wikipedia.org/wiki/\">\\n              <span class=\"autonym\" lang=\"ml\" title=\"Malayalam (ml:)\">\\n               മലയാളം\\n              </span>\\n             </a>\\n            </li>\\n            <li>\\n             <a class=\"external text\" href=\"https://mk.wikipedia.org/wiki/\">\\n              <span class=\"autonym\" lang=\"mk\" title=\"Macedonian (mk:)\">\\n               Македонски\\n              </span>\\n             </a>\\n            </li>\\n            <li>\\n             <a class=\"external text\" href=\"https://nn.wikipedia.org/wiki/\">\\n              <span class=\"autonym\" lang=\"nn\" title=\"Norwegian Nynorsk (nn:)\">\\n               Norsk nynorsk\\n              </span>\\n             </a>\\n            </li>\\n            <li>\\n             <a class=\"external text\" href=\"https://sk.wikipedia.org/wiki/\">\\n              <span class=\"autonym\" lang=\"sk\" title=\"Slovak (sk:)\">\\n               Slovenčina\\n              </span>\\n             </a>\\n            </li>\\n            <li>\\n             <a class=\"external text\" href=\"https://sl.wikipedia.org/wiki/\">\\n              <span class=\"autonym\" lang=\"sl\" title=\"Slovenian (sl:)\">\\n               Slovenščina\\n              </span>\\n             </a>\\n            </li>\\n            <li>\\n             <a class=\"external text\" href=\"https://sq.wikipedia.org/wiki/\">\\n              <span class=\"autonym\" lang=\"sq\" title=\"Albanian (sq:)\">\\n               Shqip\\n              </span>\\n             </a>\\n            </li>\\n            <li>\\n             <a class=\"external text\" href=\"https://th.wikipedia.org/wiki/\">\\n              <span class=\"autonym\" lang=\"th\" title=\"Thai (th:)\">\\n               ไทย\\n              </span>\\n             </a>\\n            </li>\\n           </ul>\\n          </li>\\n         </ul>\\n        </div>\\n       </div>\\n      </div>\\n      <!-- \\nNewPP limit report\\nParsed by mw1332\\nCached time: 20210929092809\\nCache expiry: 3600\\nReduced expiry: true\\nComplications: []\\nCPU time usage: 0.502 seconds\\nReal time usage: 0.671 seconds\\nPreprocessor visited node count: 4280/1000000\\nPost‐expand include size: 112345/2097152 bytes\\nTemplate argument size: 7147/2097152 bytes\\nHighest expansion depth: 21/40\\nExpensive parser function count: 13/500\\nUnstrip recursion depth: 0/20\\nUnstrip post‐expand size: 5370/5000000 bytes\\nLua time usage: 0.095/10.000 seconds\\nLua memory usage: 2613323/52428800 bytes\\nNumber of Wikibase entities loaded: 0/400\\n-->\\n      <!--\\nTransclusion expansion time report (%,ms,calls,template)\\n100.00%  446.824      1 -total\\n 34.25%  153.038      8 Template:Main_page_image\\n 28.78%  128.596      1 Wikipedia:Main_Page/Tomorrow\\n 23.17%  103.535      1 Wikipedia:Today\\'s_featured_article/September_29,_2021\\n 20.72%   92.560      8 Template:Str_number/trim\\n 18.47%   82.509     24 Template:If_empty\\n 15.90%   71.054      2 Template:In_the_news\\n 14.87%   66.423      2 Template:Main_page_image/TFA\\n 13.49%   60.279      2 Template:Wikipedia_languages\\n 12.35%   55.178      1 Wikipedia:Selected_anniversaries/September_29\\n-->\\n      <!-- Saved in parser cache with key enwiki:pcache:idhash:15580374-0!canonical and timestamp 20210929092809 and revision id 1004593520. Serialized with JSON.\\n -->\\n     </div>\\n     <noscript>\\n      <img alt=\"\" height=\"1\" src=\"//en.wikipedia.org/wiki/Special:CentralAutoLogin/start?type=1x1\" style=\"border: none; position: absolute;\" title=\"\" width=\"1\"/>\\n     </noscript>\\n     <div class=\"printfooter\">\\n      Retrieved from \"\\n      <a dir=\"ltr\" href=\"https://en.wikipedia.org/w/index.php?title=Main_Page&amp;oldid=1004593520\">\\n       https://en.wikipedia.org/w/index.php?title=Main_Page&amp;oldid=1004593520\\n      </a>\\n      \"\\n     </div>\\n    </div>\\n    <div class=\"catlinks catlinks-allhidden\" data-mw=\"interface\" id=\"catlinks\">\\n    </div>\\n   </div>\\n  </div>\\n  <div id=\"mw-data-after-content\">\\n   <div class=\"read-more-container\">\\n   </div>\\n  </div>\\n  <div id=\"mw-navigation\">\\n   <h2>\\n    Navigation menu\\n   </h2>\\n   <div id=\"mw-head\">\\n    <nav aria-labelledby=\"p-personal-label\" class=\"mw-portlet mw-portlet-personal vector-user-menu-legacy vector-menu\" id=\"p-personal\" role=\"navigation\">\\n     <h3 aria-label=\"\" class=\"vector-menu-heading\" id=\"p-personal-label\">\\n      <span>\\n       Personal tools\\n      </span>\\n     </h3>\\n     <div class=\"vector-menu-content\">\\n      <ul class=\"vector-menu-content-list\">\\n       <li class=\"mw-list-item\" id=\"pt-anonuserpage\">\\n        Not logged in\\n       </li>\\n       <li class=\"mw-list-item\" id=\"pt-anontalk\">\\n        <a accesskey=\"n\" href=\"/wiki/Special:MyTalk\" title=\"Discussion about edits from this IP address [n]\">\\n         Talk\\n        </a>\\n       </li>\\n       <li class=\"mw-list-item\" id=\"pt-anoncontribs\">\\n        <a accesskey=\"y\" href=\"/wiki/Special:MyContributions\" title=\"A list of edits made from this IP address [y]\">\\n         Contributions\\n        </a>\\n       </li>\\n       <li class=\"mw-list-item\" id=\"pt-createaccount\">\\n        <a href=\"/w/index.php?title=Special:CreateAccount&amp;returnto=Main+Page\" title=\"You are encouraged to create an account and log in; however, it is not mandatory\">\\n         Create account\\n        </a>\\n       </li>\\n       <li class=\"mw-list-item\" id=\"pt-login\">\\n        <a accesskey=\"o\" href=\"/w/index.php?title=Special:UserLogin&amp;returnto=Main+Page\" title=\"You\\'re encouraged to log in; however, it\\'s not mandatory. [o]\">\\n         Log in\\n        </a>\\n       </li>\\n      </ul>\\n     </div>\\n    </nav>\\n    <div id=\"left-navigation\">\\n     <nav aria-labelledby=\"p-namespaces-label\" class=\"mw-portlet mw-portlet-namespaces vector-menu vector-menu-tabs\" id=\"p-namespaces\" role=\"navigation\">\\n      <h3 aria-label=\"\" class=\"vector-menu-heading\" id=\"p-namespaces-label\">\\n       <span>\\n        Namespaces\\n       </span>\\n      </h3>\\n      <div class=\"vector-menu-content\">\\n       <ul class=\"vector-menu-content-list\">\\n        <li class=\"selected mw-list-item\" id=\"ca-nstab-main\">\\n         <a accesskey=\"c\" href=\"/wiki/Main_Page\" title=\"View the content page [c]\">\\n          Main Page\\n         </a>\\n        </li>\\n        <li class=\"mw-list-item\" id=\"ca-talk\">\\n         <a accesskey=\"t\" href=\"/wiki/Talk:Main_Page\" rel=\"discussion\" title=\"Discuss improvements to the content page [t]\">\\n          Talk\\n         </a>\\n        </li>\\n       </ul>\\n      </div>\\n     </nav>\\n     <nav aria-labelledby=\"p-variants-label\" class=\"mw-portlet mw-portlet-variants emptyPortlet vector-menu-dropdown-noicon vector-menu vector-menu-dropdown\" id=\"p-variants\" role=\"navigation\">\\n      <input aria-haspopup=\"true\" aria-labelledby=\"p-variants-label\" class=\" vector-menu-checkbox\" data-event-name=\"ui.dropdown-p-variants\" id=\"p-variants-checkbox\" role=\"button\" type=\"checkbox\"/>\\n      <h3 aria-label=\"Change language variant\" class=\"vector-menu-heading\" id=\"p-variants-label\">\\n       <span>\\n        Variants\\n       </span>\\n       <span class=\"vector-menu-checkbox-expanded\">\\n        expanded\\n       </span>\\n       <span class=\"vector-menu-checkbox-collapsed\">\\n        collapsed\\n       </span>\\n      </h3>\\n      <div class=\"vector-menu-content\">\\n       <ul class=\"vector-menu-content-list\">\\n       </ul>\\n      </div>\\n     </nav>\\n    </div>\\n    <div id=\"right-navigation\">\\n     <nav aria-labelledby=\"p-views-label\" class=\"mw-portlet mw-portlet-views vector-menu vector-menu-tabs\" id=\"p-views\" role=\"navigation\">\\n      <h3 aria-label=\"\" class=\"vector-menu-heading\" id=\"p-views-label\">\\n       <span>\\n        Views\\n       </span>\\n      </h3>\\n      <div class=\"vector-menu-content\">\\n       <ul class=\"vector-menu-content-list\">\\n        <li class=\"selected mw-list-item\" id=\"ca-view\">\\n         <a href=\"/wiki/Main_Page\">\\n          Read\\n         </a>\\n        </li>\\n        <li class=\"mw-list-item\" id=\"ca-viewsource\">\\n         <a accesskey=\"e\" href=\"/w/index.php?title=Main_Page&amp;action=edit\" title=\"This page is protected.\\nYou can view its source [e]\">\\n          View source\\n         </a>\\n        </li>\\n        <li class=\"mw-list-item\" id=\"ca-history\">\\n         <a accesskey=\"h\" href=\"/w/index.php?title=Main_Page&amp;action=history\" title=\"Past revisions of this page [h]\">\\n          View history\\n         </a>\\n        </li>\\n       </ul>\\n      </div>\\n     </nav>\\n     <nav aria-labelledby=\"p-cactions-label\" class=\"mw-portlet mw-portlet-cactions emptyPortlet vector-menu-dropdown-noicon vector-menu vector-menu-dropdown\" id=\"p-cactions\" role=\"navigation\" title=\"More options\">\\n      <input aria-haspopup=\"true\" aria-labelledby=\"p-cactions-label\" class=\" vector-menu-checkbox\" data-event-name=\"ui.dropdown-p-cactions\" id=\"p-cactions-checkbox\" role=\"button\" type=\"checkbox\"/>\\n      <h3 aria-label=\"\" class=\"vector-menu-heading\" id=\"p-cactions-label\">\\n       <span>\\n        More\\n       </span>\\n       <span class=\"vector-menu-checkbox-expanded\">\\n        expanded\\n       </span>\\n       <span class=\"vector-menu-checkbox-collapsed\">\\n        collapsed\\n       </span>\\n      </h3>\\n      <div class=\"vector-menu-content\">\\n       <ul class=\"vector-menu-content-list\">\\n       </ul>\\n      </div>\\n     </nav>\\n     <div class=\"vector-search-box\" id=\"p-search\" role=\"search\">\\n      <div>\\n       <h3>\\n        <label for=\"searchInput\">\\n         Search\\n        </label>\\n       </h3>\\n       <form action=\"/w/index.php\" id=\"searchform\">\\n        <div data-search-loc=\"header-navigation\" id=\"simpleSearch\">\\n         <input accesskey=\"f\" autocapitalize=\"sentences\" id=\"searchInput\" name=\"search\" placeholder=\"Search Wikipedia\" title=\"Search Wikipedia [f]\" type=\"search\"/>\\n         <input name=\"title\" type=\"hidden\" value=\"Special:Search\"/>\\n         <input class=\"searchButton mw-fallbackSearchButton\" id=\"mw-searchButton\" name=\"fulltext\" title=\"Search Wikipedia for this text\" type=\"submit\" value=\"Search\"/>\\n         <input class=\"searchButton\" id=\"searchButton\" name=\"go\" title=\"Go to a page with this exact name if it exists\" type=\"submit\" value=\"Go\"/>\\n        </div>\\n       </form>\\n      </div>\\n     </div>\\n    </div>\\n   </div>\\n   <div id=\"mw-panel\">\\n    <div id=\"p-logo\" role=\"banner\">\\n     <a class=\"mw-wiki-logo\" href=\"/wiki/Main_Page\" title=\"Visit the main page\">\\n     </a>\\n    </div>\\n    <nav aria-labelledby=\"p-navigation-label\" class=\"mw-portlet mw-portlet-navigation vector-menu vector-menu-portal portal\" id=\"p-navigation\" role=\"navigation\">\\n     <h3 aria-label=\"\" class=\"vector-menu-heading\" id=\"p-navigation-label\">\\n      <span>\\n       Navigation\\n      </span>\\n     </h3>\\n     <div class=\"vector-menu-content\">\\n      <ul class=\"vector-menu-content-list\">\\n       <li class=\"mw-list-item\" id=\"n-mainpage-description\">\\n        <a accesskey=\"z\" href=\"/wiki/Main_Page\" title=\"Visit the main page [z]\">\\n         Main page\\n        </a>\\n       </li>\\n       <li class=\"mw-list-item\" id=\"n-contents\">\\n        <a href=\"/wiki/Wikipedia:Contents\" title=\"Guides to browsing Wikipedia\">\\n         Contents\\n        </a>\\n       </li>\\n       <li class=\"mw-list-item\" id=\"n-currentevents\">\\n        <a href=\"/wiki/Portal:Current_events\" title=\"Articles related to current events\">\\n         Current events\\n        </a>\\n       </li>\\n       <li class=\"mw-list-item\" id=\"n-randompage\">\\n        <a accesskey=\"x\" href=\"/wiki/Special:Random\" title=\"Visit a randomly selected article [x]\">\\n         Random article\\n        </a>\\n       </li>\\n       <li class=\"mw-list-item\" id=\"n-aboutsite\">\\n        <a href=\"/wiki/Wikipedia:About\" title=\"Learn about Wikipedia and how it works\">\\n         About Wikipedia\\n        </a>\\n       </li>\\n       <li class=\"mw-list-item\" id=\"n-contactpage\">\\n        <a href=\"//en.wikipedia.org/wiki/Wikipedia:Contact_us\" title=\"How to contact Wikipedia\">\\n         Contact us\\n        </a>\\n       </li>\\n       <li class=\"mw-list-item\" id=\"n-sitesupport\">\\n        <a href=\"https://donate.wikimedia.org/wiki/Special:FundraiserRedirector?utm_source=donate&amp;utm_medium=sidebar&amp;utm_campaign=C13_en.wikipedia.org&amp;uselang=en\" title=\"Support us by donating to the Wikimedia Foundation\">\\n         Donate\\n        </a>\\n       </li>\\n      </ul>\\n     </div>\\n    </nav>\\n    <nav aria-labelledby=\"p-interaction-label\" class=\"mw-portlet mw-portlet-interaction vector-menu vector-menu-portal portal\" id=\"p-interaction\" role=\"navigation\">\\n     <h3 aria-label=\"\" class=\"vector-menu-heading\" id=\"p-interaction-label\">\\n      <span>\\n       Contribute\\n      </span>\\n     </h3>\\n     <div class=\"vector-menu-content\">\\n      <ul class=\"vector-menu-content-list\">\\n       <li class=\"mw-list-item\" id=\"n-help\">\\n        <a href=\"/wiki/Help:Contents\" title=\"Guidance on how to use and edit Wikipedia\">\\n         Help\\n        </a>\\n       </li>\\n       <li class=\"mw-list-item\" id=\"n-introduction\">\\n        <a href=\"/wiki/Help:Introduction\" title=\"Learn how to edit Wikipedia\">\\n         Learn to edit\\n        </a>\\n       </li>\\n       <li class=\"mw-list-item\" id=\"n-portal\">\\n        <a href=\"/wiki/Wikipedia:Community_portal\" title=\"The hub for editors\">\\n         Community portal\\n        </a>\\n       </li>\\n       <li class=\"mw-list-item\" id=\"n-recentchanges\">\\n        <a accesskey=\"r\" href=\"/wiki/Special:RecentChanges\" title=\"A list of recent changes to Wikipedia [r]\">\\n         Recent changes\\n        </a>\\n       </li>\\n       <li class=\"mw-list-item\" id=\"n-upload\">\\n        <a href=\"/wiki/Wikipedia:File_Upload_Wizard\" title=\"Add images or other media for use on Wikipedia\">\\n         Upload file\\n        </a>\\n       </li>\\n      </ul>\\n     </div>\\n    </nav>\\n    <nav aria-labelledby=\"p-tb-label\" class=\"mw-portlet mw-portlet-tb vector-menu vector-menu-portal portal\" id=\"p-tb\" role=\"navigation\">\\n     <h3 aria-label=\"\" class=\"vector-menu-heading\" id=\"p-tb-label\">\\n      <span>\\n       Tools\\n      </span>\\n     </h3>\\n     <div class=\"vector-menu-content\">\\n      <ul class=\"vector-menu-content-list\">\\n       <li class=\"mw-list-item\" id=\"t-whatlinkshere\">\\n        <a accesskey=\"j\" href=\"/wiki/Special:WhatLinksHere/Main_Page\" title=\"List of all English Wikipedia pages containing links to this page [j]\">\\n         What links here\\n        </a>\\n       </li>\\n       <li class=\"mw-list-item\" id=\"t-recentchangeslinked\">\\n        <a accesskey=\"k\" href=\"/wiki/Special:RecentChangesLinked/Main_Page\" rel=\"nofollow\" title=\"Recent changes in pages linked from this page [k]\">\\n         Related changes\\n        </a>\\n       </li>\\n       <li class=\"mw-list-item\" id=\"t-upload\">\\n        <a accesskey=\"u\" href=\"/wiki/Wikipedia:File_Upload_Wizard\" title=\"Upload files [u]\">\\n         Upload file\\n        </a>\\n       </li>\\n       <li class=\"mw-list-item\" id=\"t-specialpages\">\\n        <a accesskey=\"q\" href=\"/wiki/Special:SpecialPages\" title=\"A list of all special pages [q]\">\\n         Special pages\\n        </a>\\n       </li>\\n       <li class=\"mw-list-item\" id=\"t-permalink\">\\n        <a href=\"/w/index.php?title=Main_Page&amp;oldid=1004593520\" title=\"Permanent link to this revision of this page\">\\n         Permanent link\\n        </a>\\n       </li>\\n       <li class=\"mw-list-item\" id=\"t-info\">\\n        <a href=\"/w/index.php?title=Main_Page&amp;action=info\" title=\"More information about this page\">\\n         Page information\\n        </a>\\n       </li>\\n       <li class=\"mw-list-item\" id=\"t-cite\">\\n        <a href=\"/w/index.php?title=Special:CiteThisPage&amp;page=Main_Page&amp;id=1004593520&amp;wpFormIdentifier=titleform\" title=\"Information on how to cite this page\">\\n         Cite this page\\n        </a>\\n       </li>\\n       <li class=\"mw-list-item\" id=\"t-wikibase\">\\n        <a accesskey=\"g\" href=\"https://www.wikidata.org/wiki/Special:EntityPage/Q5296\" title=\"Structured data on this page hosted by Wikidata [g]\">\\n         Wikidata item\\n        </a>\\n       </li>\\n      </ul>\\n     </div>\\n    </nav>\\n    <nav aria-labelledby=\"p-coll-print_export-label\" class=\"mw-portlet mw-portlet-coll-print_export vector-menu vector-menu-portal portal\" id=\"p-coll-print_export\" role=\"navigation\">\\n     <h3 aria-label=\"\" class=\"vector-menu-heading\" id=\"p-coll-print_export-label\">\\n      <span>\\n       Print/export\\n      </span>\\n     </h3>\\n     <div class=\"vector-menu-content\">\\n      <ul class=\"vector-menu-content-list\">\\n       <li class=\"mw-list-item\" id=\"coll-download-as-rl\">\\n        <a href=\"/w/index.php?title=Special:DownloadAsPdf&amp;page=Main_Page&amp;action=show-download-screen\" title=\"Download this page as a PDF file\">\\n         Download as PDF\\n        </a>\\n       </li>\\n       <li class=\"mw-list-item\" id=\"t-print\">\\n        <a accesskey=\"p\" href=\"/w/index.php?title=Main_Page&amp;printable=yes\" title=\"Printable version of this page [p]\">\\n         Printable version\\n        </a>\\n       </li>\\n      </ul>\\n     </div>\\n    </nav>\\n    <nav aria-labelledby=\"p-wikibase-otherprojects-label\" class=\"mw-portlet mw-portlet-wikibase-otherprojects vector-menu vector-menu-portal portal\" id=\"p-wikibase-otherprojects\" role=\"navigation\">\\n     <h3 aria-label=\"\" class=\"vector-menu-heading\" id=\"p-wikibase-otherprojects-label\">\\n      <span>\\n       In other projects\\n      </span>\\n     </h3>\\n     <div class=\"vector-menu-content\">\\n      <ul class=\"vector-menu-content-list\">\\n       <li class=\"wb-otherproject-link wb-otherproject-commons mw-list-item\">\\n        <a href=\"https://commons.wikimedia.org/wiki/Main_Page\" hreflang=\"en\">\\n         Wikimedia Commons\\n        </a>\\n       </li>\\n       <li class=\"wb-otherproject-link wb-otherproject-mediawiki mw-list-item\">\\n        <a href=\"https://www.mediawiki.org/wiki/MediaWiki\" hreflang=\"en\">\\n         MediaWiki\\n        </a>\\n       </li>\\n       <li class=\"wb-otherproject-link wb-otherproject-meta mw-list-item\">\\n        <a href=\"https://meta.wikimedia.org/wiki/Main_Page\" hreflang=\"en\">\\n         Meta-Wiki\\n        </a>\\n       </li>\\n       <li class=\"wb-otherproject-link wb-otherproject-sources mw-list-item\">\\n        <a href=\"https://wikisource.org/wiki/Main_Page\" hreflang=\"en\">\\n         Multilingual Wikisource\\n        </a>\\n       </li>\\n       <li class=\"wb-otherproject-link wb-otherproject-species mw-list-item\">\\n        <a href=\"https://species.wikimedia.org/wiki/Main_Page\" hreflang=\"en\">\\n         Wikispecies\\n        </a>\\n       </li>\\n       <li class=\"wb-otherproject-link wb-otherproject-wikibooks mw-list-item\">\\n        <a href=\"https://en.wikibooks.org/wiki/Main_Page\" hreflang=\"en\">\\n         Wikibooks\\n        </a>\\n       </li>\\n       <li class=\"wb-otherproject-link wb-otherproject-wikidata mw-list-item\">\\n        <a href=\"https://www.wikidata.org/wiki/Wikidata:Main_Page\" hreflang=\"en\">\\n         Wikidata\\n        </a>\\n       </li>\\n       <li class=\"wb-otherproject-link wb-otherproject-wikimania mw-list-item\">\\n        <a href=\"https://wikimania.wikimedia.org/wiki/Wikimania\" hreflang=\"en\">\\n         Wikimania\\n        </a>\\n       </li>\\n       <li class=\"wb-otherproject-link wb-otherproject-wikinews mw-list-item\">\\n        <a href=\"https://en.wikinews.org/wiki/Main_Page\" hreflang=\"en\">\\n         Wikinews\\n        </a>\\n       </li>\\n       <li class=\"wb-otherproject-link wb-otherproject-wikiquote mw-list-item\">\\n        <a href=\"https://en.wikiquote.org/wiki/Main_Page\" hreflang=\"en\">\\n         Wikiquote\\n        </a>\\n       </li>\\n       <li class=\"wb-otherproject-link wb-otherproject-wikisource mw-list-item\">\\n        <a href=\"https://en.wikisource.org/wiki/Main_Page\" hreflang=\"en\">\\n         Wikisource\\n        </a>\\n       </li>\\n       <li class=\"wb-otherproject-link wb-otherproject-wikiversity mw-list-item\">\\n        <a href=\"https://en.wikiversity.org/wiki/Wikiversity:Main_Page\" hreflang=\"en\">\\n         Wikiversity\\n        </a>\\n       </li>\\n       <li class=\"wb-otherproject-link wb-otherproject-wikivoyage mw-list-item\">\\n        <a href=\"https://en.wikivoyage.org/wiki/Main_Page\" hreflang=\"en\">\\n         Wikivoyage\\n        </a>\\n       </li>\\n       <li class=\"wb-otherproject-link wb-otherproject-wiktionary mw-list-item\">\\n        <a href=\"https://en.wiktionary.org/wiki/Wiktionary:Main_Page\" hreflang=\"en\">\\n         Wiktionary\\n        </a>\\n       </li>\\n      </ul>\\n     </div>\\n    </nav>\\n    <nav aria-labelledby=\"p-lang-label\" class=\"mw-portlet mw-portlet-lang vector-menu vector-menu-portal portal\" id=\"p-lang\" role=\"navigation\">\\n     <h3 aria-label=\"\" class=\"vector-menu-heading\" id=\"p-lang-label\">\\n      <span>\\n       Languages\\n      </span>\\n     </h3>\\n     <div class=\"vector-menu-content\">\\n      <ul class=\"vector-menu-content-list\">\\n       <li class=\"interlanguage-link interwiki-ar mw-list-item\">\\n        <a class=\"interlanguage-link-target\" href=\"https://ar.wikipedia.org/wiki/\" hreflang=\"ar\" lang=\"ar\" title=\"Arabic\">\\n         العربية\\n        </a>\\n       </li>\\n       <li class=\"interlanguage-link interwiki-bn mw-list-item\">\\n        <a class=\"interlanguage-link-target\" href=\"https://bn.wikipedia.org/wiki/\" hreflang=\"bn\" lang=\"bn\" title=\"Bangla\">\\n         বাংলা\\n        </a>\\n       </li>\\n       <li class=\"interlanguage-link interwiki-bg mw-list-item\">\\n        <a class=\"interlanguage-link-target\" href=\"https://bg.wikipedia.org/wiki/\" hreflang=\"bg\" lang=\"bg\" title=\"Bulgarian\">\\n         Български\\n        </a>\\n       </li>\\n       <li class=\"interlanguage-link interwiki-bs mw-list-item\">\\n        <a class=\"interlanguage-link-target\" href=\"https://bs.wikipedia.org/wiki/\" hreflang=\"bs\" lang=\"bs\" title=\"Bosnian\">\\n         Bosanski\\n        </a>\\n       </li>\\n       <li class=\"interlanguage-link interwiki-ca mw-list-item\">\\n        <a class=\"interlanguage-link-target\" href=\"https://ca.wikipedia.org/wiki/\" hreflang=\"ca\" lang=\"ca\" title=\"Catalan\">\\n         Català\\n        </a>\\n       </li>\\n       <li class=\"interlanguage-link interwiki-cs mw-list-item\">\\n        <a class=\"interlanguage-link-target\" href=\"https://cs.wikipedia.org/wiki/\" hreflang=\"cs\" lang=\"cs\" title=\"Czech\">\\n         Čeština\\n        </a>\\n       </li>\\n       <li class=\"interlanguage-link interwiki-da mw-list-item\">\\n        <a class=\"interlanguage-link-target\" href=\"https://da.wikipedia.org/wiki/\" hreflang=\"da\" lang=\"da\" title=\"Danish\">\\n         Dansk\\n        </a>\\n       </li>\\n       <li class=\"interlanguage-link interwiki-de mw-list-item\">\\n        <a class=\"interlanguage-link-target\" href=\"https://de.wikipedia.org/wiki/\" hreflang=\"de\" lang=\"de\" title=\"German\">\\n         Deutsch\\n        </a>\\n       </li>\\n       <li class=\"interlanguage-link interwiki-et mw-list-item\">\\n        <a class=\"interlanguage-link-target\" href=\"https://et.wikipedia.org/wiki/\" hreflang=\"et\" lang=\"et\" title=\"Estonian\">\\n         Eesti\\n        </a>\\n       </li>\\n       <li class=\"interlanguage-link interwiki-el mw-list-item\">\\n        <a class=\"interlanguage-link-target\" href=\"https://el.wikipedia.org/wiki/\" hreflang=\"el\" lang=\"el\" title=\"Greek\">\\n         Ελληνικά\\n        </a>\\n       </li>\\n       <li class=\"interlanguage-link interwiki-es mw-list-item\">\\n        <a class=\"interlanguage-link-target\" href=\"https://es.wikipedia.org/wiki/\" hreflang=\"es\" lang=\"es\" title=\"Spanish\">\\n         Español\\n        </a>\\n       </li>\\n       <li class=\"interlanguage-link interwiki-eo mw-list-item\">\\n        <a class=\"interlanguage-link-target\" href=\"https://eo.wikipedia.org/wiki/\" hreflang=\"eo\" lang=\"eo\" title=\"Esperanto\">\\n         Esperanto\\n        </a>\\n       </li>\\n       <li class=\"interlanguage-link interwiki-eu mw-list-item\">\\n        <a class=\"interlanguage-link-target\" href=\"https://eu.wikipedia.org/wiki/\" hreflang=\"eu\" lang=\"eu\" title=\"Basque\">\\n         Euskara\\n        </a>\\n       </li>\\n       <li class=\"interlanguage-link interwiki-fa mw-list-item\">\\n        <a class=\"interlanguage-link-target\" href=\"https://fa.wikipedia.org/wiki/\" hreflang=\"fa\" lang=\"fa\" title=\"Persian\">\\n         فارسی\\n        </a>\\n       </li>\\n       <li class=\"interlanguage-link interwiki-fr mw-list-item\">\\n        <a class=\"interlanguage-link-target\" href=\"https://fr.wikipedia.org/wiki/\" hreflang=\"fr\" lang=\"fr\" title=\"French\">\\n         Français\\n        </a>\\n       </li>\\n       <li class=\"interlanguage-link interwiki-gl mw-list-item\">\\n        <a class=\"interlanguage-link-target\" href=\"https://gl.wikipedia.org/wiki/\" hreflang=\"gl\" lang=\"gl\" title=\"Galician\">\\n         Galego\\n        </a>\\n       </li>\\n       <li class=\"interlanguage-link interwiki-ko mw-list-item\">\\n        <a class=\"interlanguage-link-target\" href=\"https://ko.wikipedia.org/wiki/\" hreflang=\"ko\" lang=\"ko\" title=\"Korean\">\\n         한국어\\n        </a>\\n       </li>\\n       <li class=\"interlanguage-link interwiki-hr mw-list-item\">\\n        <a class=\"interlanguage-link-target\" href=\"https://hr.wikipedia.org/wiki/\" hreflang=\"hr\" lang=\"hr\" title=\"Croatian\">\\n         Hrvatski\\n        </a>\\n       </li>\\n       <li class=\"interlanguage-link interwiki-id mw-list-item\">\\n        <a class=\"interlanguage-link-target\" href=\"https://id.wikipedia.org/wiki/\" hreflang=\"id\" lang=\"id\" title=\"Indonesian\">\\n         Bahasa Indonesia\\n        </a>\\n       </li>\\n       <li class=\"interlanguage-link interwiki-it mw-list-item\">\\n        <a class=\"interlanguage-link-target\" href=\"https://it.wikipedia.org/wiki/\" hreflang=\"it\" lang=\"it\" title=\"Italian\">\\n         Italiano\\n        </a>\\n       </li>\\n       <li class=\"interlanguage-link interwiki-he mw-list-item\">\\n        <a class=\"interlanguage-link-target\" href=\"https://he.wikipedia.org/wiki/\" hreflang=\"he\" lang=\"he\" title=\"Hebrew\">\\n         עברית\\n        </a>\\n       </li>\\n       <li class=\"interlanguage-link interwiki-ka mw-list-item\">\\n        <a class=\"interlanguage-link-target\" href=\"https://ka.wikipedia.org/wiki/\" hreflang=\"ka\" lang=\"ka\" title=\"Georgian\">\\n         ქართული\\n        </a>\\n       </li>\\n       <li class=\"interlanguage-link interwiki-lv mw-list-item\">\\n        <a class=\"interlanguage-link-target\" href=\"https://lv.wikipedia.org/wiki/\" hreflang=\"lv\" lang=\"lv\" title=\"Latvian\">\\n         Latviešu\\n        </a>\\n       </li>\\n       <li class=\"interlanguage-link interwiki-lt mw-list-item\">\\n        <a class=\"interlanguage-link-target\" href=\"https://lt.wikipedia.org/wiki/\" hreflang=\"lt\" lang=\"lt\" title=\"Lithuanian\">\\n         Lietuvių\\n        </a>\\n       </li>\\n       <li class=\"interlanguage-link interwiki-hu mw-list-item\">\\n        <a class=\"interlanguage-link-target\" href=\"https://hu.wikipedia.org/wiki/\" hreflang=\"hu\" lang=\"hu\" title=\"Hungarian\">\\n         Magyar\\n        </a>\\n       </li>\\n       <li class=\"interlanguage-link interwiki-mk mw-list-item\">\\n        <a class=\"interlanguage-link-target\" href=\"https://mk.wikipedia.org/wiki/\" hreflang=\"mk\" lang=\"mk\" title=\"Macedonian\">\\n         Македонски\\n        </a>\\n       </li>\\n       <li class=\"interlanguage-link interwiki-ms mw-list-item\">\\n        <a class=\"interlanguage-link-target\" href=\"https://ms.wikipedia.org/wiki/\" hreflang=\"ms\" lang=\"ms\" title=\"Malay\">\\n         Bahasa Melayu\\n        </a>\\n       </li>\\n       <li class=\"interlanguage-link interwiki-nl mw-list-item\">\\n        <a class=\"interlanguage-link-target\" href=\"https://nl.wikipedia.org/wiki/\" hreflang=\"nl\" lang=\"nl\" title=\"Dutch\">\\n         Nederlands\\n        </a>\\n       </li>\\n       <li class=\"interlanguage-link interwiki-ja mw-list-item\">\\n        <a class=\"interlanguage-link-target\" href=\"https://ja.wikipedia.org/wiki/\" hreflang=\"ja\" lang=\"ja\" title=\"Japanese\">\\n         日本語\\n        </a>\\n       </li>\\n       <li class=\"interlanguage-link interwiki-no mw-list-item\">\\n        <a class=\"interlanguage-link-target\" href=\"https://no.wikipedia.org/wiki/\" hreflang=\"nb\" lang=\"nb\" title=\"Norwegian Bokmål\">\\n         Norsk bokmål\\n        </a>\\n       </li>\\n       <li class=\"interlanguage-link interwiki-nn mw-list-item\">\\n        <a class=\"interlanguage-link-target\" href=\"https://nn.wikipedia.org/wiki/\" hreflang=\"nn\" lang=\"nn\" title=\"Norwegian Nynorsk\">\\n         Norsk nynorsk\\n        </a>\\n       </li>\\n       <li class=\"interlanguage-link interwiki-pl mw-list-item\">\\n        <a class=\"interlanguage-link-target\" href=\"https://pl.wikipedia.org/wiki/\" hreflang=\"pl\" lang=\"pl\" title=\"Polish\">\\n         Polski\\n        </a>\\n       </li>\\n       <li class=\"interlanguage-link interwiki-pt mw-list-item\">\\n        <a class=\"interlanguage-link-target\" href=\"https://pt.wikipedia.org/wiki/\" hreflang=\"pt\" lang=\"pt\" title=\"Portuguese\">\\n         Português\\n        </a>\\n       </li>\\n       <li class=\"interlanguage-link interwiki-ro mw-list-item\">\\n        <a class=\"interlanguage-link-target\" href=\"https://ro.wikipedia.org/wiki/\" hreflang=\"ro\" lang=\"ro\" title=\"Romanian\">\\n         Română\\n        </a>\\n       </li>\\n       <li class=\"interlanguage-link interwiki-ru mw-list-item\">\\n        <a class=\"interlanguage-link-target\" href=\"https://ru.wikipedia.org/wiki/\" hreflang=\"ru\" lang=\"ru\" title=\"Russian\">\\n         Русский\\n        </a>\\n       </li>\\n       <li class=\"interlanguage-link interwiki-simple mw-list-item\">\\n        <a class=\"interlanguage-link-target\" href=\"https://simple.wikipedia.org/wiki/\" hreflang=\"en-simple\" lang=\"en-simple\" title=\"Simple English\">\\n         Simple English\\n        </a>\\n       </li>\\n       <li class=\"interlanguage-link interwiki-sk mw-list-item\">\\n        <a class=\"interlanguage-link-target\" href=\"https://sk.wikipedia.org/wiki/\" hreflang=\"sk\" lang=\"sk\" title=\"Slovak\">\\n         Slovenčina\\n        </a>\\n       </li>\\n       <li class=\"interlanguage-link interwiki-sl mw-list-item\">\\n        <a class=\"interlanguage-link-target\" href=\"https://sl.wikipedia.org/wiki/\" hreflang=\"sl\" lang=\"sl\" title=\"Slovenian\">\\n         Slovenščina\\n        </a>\\n       </li>\\n       <li class=\"interlanguage-link interwiki-sr mw-list-item\">\\n        <a class=\"interlanguage-link-target\" href=\"https://sr.wikipedia.org/wiki/\" hreflang=\"sr\" lang=\"sr\" title=\"Serbian\">\\n         Српски / srpski\\n        </a>\\n       </li>\\n       <li class=\"interlanguage-link interwiki-sh mw-list-item\">\\n        <a class=\"interlanguage-link-target\" href=\"https://sh.wikipedia.org/wiki/\" hreflang=\"sh\" lang=\"sh\" title=\"Serbo-Croatian\">\\n         Srpskohrvatski / српскохрватски\\n        </a>\\n       </li>\\n       <li class=\"interlanguage-link interwiki-fi mw-list-item\">\\n        <a class=\"interlanguage-link-target\" href=\"https://fi.wikipedia.org/wiki/\" hreflang=\"fi\" lang=\"fi\" title=\"Finnish\">\\n         Suomi\\n        </a>\\n       </li>\\n       <li class=\"interlanguage-link interwiki-sv mw-list-item\">\\n        <a class=\"interlanguage-link-target\" href=\"https://sv.wikipedia.org/wiki/\" hreflang=\"sv\" lang=\"sv\" title=\"Swedish\">\\n         Svenska\\n        </a>\\n       </li>\\n       <li class=\"interlanguage-link interwiki-th mw-list-item\">\\n        <a class=\"interlanguage-link-target\" href=\"https://th.wikipedia.org/wiki/\" hreflang=\"th\" lang=\"th\" title=\"Thai\">\\n         ไทย\\n        </a>\\n       </li>\\n       <li class=\"interlanguage-link interwiki-tr mw-list-item\">\\n        <a class=\"interlanguage-link-target\" href=\"https://tr.wikipedia.org/wiki/\" hreflang=\"tr\" lang=\"tr\" title=\"Turkish\">\\n         Türkçe\\n        </a>\\n       </li>\\n       <li class=\"interlanguage-link interwiki-uk mw-list-item\">\\n        <a class=\"interlanguage-link-target\" href=\"https://uk.wikipedia.org/wiki/\" hreflang=\"uk\" lang=\"uk\" title=\"Ukrainian\">\\n         Українська\\n        </a>\\n       </li>\\n       <li class=\"interlanguage-link interwiki-vi mw-list-item\">\\n        <a class=\"interlanguage-link-target\" href=\"https://vi.wikipedia.org/wiki/\" hreflang=\"vi\" lang=\"vi\" title=\"Vietnamese\">\\n         Tiếng Việt\\n        </a>\\n       </li>\\n       <li class=\"interlanguage-link interwiki-zh mw-list-item\">\\n        <a class=\"interlanguage-link-target\" href=\"https://zh.wikipedia.org/wiki/\" hreflang=\"zh\" lang=\"zh\" title=\"Chinese\">\\n         中文\\n        </a>\\n       </li>\\n      </ul>\\n     </div>\\n    </nav>\\n   </div>\\n  </div>\\n  <footer class=\"mw-footer\" id=\"footer\" role=\"contentinfo\">\\n   <ul id=\"footer-info\">\\n    <li id=\"footer-info-lastmod\">\\n     This page was last edited on 3 February 2021, at 11:11\\n     <span class=\"anonymous-show\">\\n      (UTC)\\n     </span>\\n     .\\n    </li>\\n    <li id=\"footer-info-copyright\">\\n     Text is available under the\\n     <a href=\"//en.wikipedia.org/wiki/Wikipedia:Text_of_Creative_Commons_Attribution-ShareAlike_3.0_Unported_License\" rel=\"license\">\\n      Creative Commons Attribution-ShareAlike License\\n     </a>\\n     <a href=\"//creativecommons.org/licenses/by-sa/3.0/\" rel=\"license\" style=\"display:none;\">\\n     </a>\\n     ;\\nadditional terms may apply.  By using this site, you agree to the\\n     <a href=\"//foundation.wikimedia.org/wiki/Terms_of_Use\">\\n      Terms of Use\\n     </a>\\n     and\\n     <a href=\"//foundation.wikimedia.org/wiki/Privacy_policy\">\\n      Privacy Policy\\n     </a>\\n     . Wikipedia® is a registered trademark of the\\n     <a href=\"//www.wikimediafoundation.org/\">\\n      Wikimedia Foundation, Inc.\\n     </a>\\n     , a non-profit organization.\\n    </li>\\n   </ul>\\n   <ul id=\"footer-places\">\\n    <li id=\"footer-places-privacy\">\\n     <a class=\"extiw\" href=\"https://foundation.wikimedia.org/wiki/Privacy_policy\" title=\"wmf:Privacy policy\">\\n      Privacy policy\\n     </a>\\n    </li>\\n    <li id=\"footer-places-about\">\\n     <a href=\"/wiki/Wikipedia:About\" title=\"Wikipedia:About\">\\n      About Wikipedia\\n     </a>\\n    </li>\\n    <li id=\"footer-places-disclaimer\">\\n     <a href=\"/wiki/Wikipedia:General_disclaimer\" title=\"Wikipedia:General disclaimer\">\\n      Disclaimers\\n     </a>\\n    </li>\\n    <li id=\"footer-places-contact\">\\n     <a href=\"//en.wikipedia.org/wiki/Wikipedia:Contact_us\">\\n      Contact Wikipedia\\n     </a>\\n    </li>\\n    <li id=\"footer-places-mobileview\">\\n     <a class=\"noprint stopMobileRedirectToggle\" href=\"//en.m.wikipedia.org/w/index.php?title=Main_Page&amp;mobileaction=toggle_view_mobile\">\\n      Mobile view\\n     </a>\\n    </li>\\n    <li id=\"footer-places-developers\">\\n     <a href=\"https://www.mediawiki.org/wiki/Special:MyLanguage/How_to_contribute\">\\n      Developers\\n     </a>\\n    </li>\\n    <li id=\"footer-places-statslink\">\\n     <a href=\"https://stats.wikimedia.org/#/en.wikipedia.org\">\\n      Statistics\\n     </a>\\n    </li>\\n    <li id=\"footer-places-cookiestatement\">\\n     <a href=\"https://foundation.wikimedia.org/wiki/Cookie_statement\">\\n      Cookie statement\\n     </a>\\n    </li>\\n   </ul>\\n   <ul class=\"noprint\" id=\"footer-icons\">\\n    <li id=\"footer-copyrightico\">\\n     <a href=\"https://wikimediafoundation.org/\">\\n      <img alt=\"Wikimedia Foundation\" height=\"31\" loading=\"lazy\" src=\"/static/images/footer/wikimedia-button.png\" srcset=\"/static/images/footer/wikimedia-button-1.5x.png 1.5x, /static/images/footer/wikimedia-button-2x.png 2x\" width=\"88\"/>\\n     </a>\\n    </li>\\n    <li id=\"footer-poweredbyico\">\\n     <a href=\"https://www.mediawiki.org/\">\\n      <img alt=\"Powered by MediaWiki\" height=\"31\" loading=\"lazy\" src=\"/static/images/footer/poweredby_mediawiki_88x31.png\" srcset=\"/static/images/footer/poweredby_mediawiki_132x47.png 1.5x, /static/images/footer/poweredby_mediawiki_176x62.png 2x\" width=\"88\"/>\\n     </a>\\n    </li>\\n   </ul>\\n  </footer>\\n  <script>\\n   (RLQ=window.RLQ||[]).push(function(){mw.config.set({\"wgPageParseReport\":{\"limitreport\":{\"cputime\":\"0.502\",\"walltime\":\"0.671\",\"ppvisitednodes\":{\"value\":4280,\"limit\":1000000},\"postexpandincludesize\":{\"value\":112345,\"limit\":2097152},\"templateargumentsize\":{\"value\":7147,\"limit\":2097152},\"expansiondepth\":{\"value\":21,\"limit\":40},\"expensivefunctioncount\":{\"value\":13,\"limit\":500},\"unstrip-depth\":{\"value\":0,\"limit\":20},\"unstrip-size\":{\"value\":5370,\"limit\":5000000},\"entityaccesscount\":{\"value\":0,\"limit\":400},\"timingprofile\":[\"100.00%  446.824      1 -total\",\" 34.25%  153.038      8 Template:Main_page_image\",\" 28.78%  128.596      1 Wikipedia:Main_Page/Tomorrow\",\" 23.17%  103.535      1 Wikipedia:Today\\'s_featured_article/September_29,_2021\",\" 20.72%   92.560      8 Template:Str_number/trim\",\" 18.47%   82.509     24 Template:If_empty\",\" 15.90%   71.054      2 Template:In_the_news\",\" 14.87%   66.423      2 Template:Main_page_image/TFA\",\" 13.49%   60.279      2 Template:Wikipedia_languages\",\" 12.35%   55.178      1 Wikipedia:Selected_anniversaries/September_29\"]},\"scribunto\":{\"limitreport-timeusage\":{\"value\":\"0.095\",\"limit\":\"10.000\"},\"limitreport-memusage\":{\"value\":2613323,\"limit\":52428800}},\"cachereport\":{\"origin\":\"mw1332\",\"timestamp\":\"20210929092809\",\"ttl\":3600,\"transientcontent\":true}}});});\\n  </script>\\n  <script type=\"application/ld+json\">\\n   {\"@context\":\"https:\\\\/\\\\/schema.org\",\"@type\":\"Article\",\"name\":\"Main Page\",\"url\":\"https:\\\\/\\\\/en.wikipedia.org\\\\/wiki\\\\/Main_Page\",\"sameAs\":\"http:\\\\/\\\\/www.wikidata.org\\\\/entity\\\\/Q5296\",\"mainEntity\":\"http:\\\\/\\\\/www.wikidata.org\\\\/entity\\\\/Q5296\",\"author\":{\"@type\":\"Organization\",\"name\":\"Contributors to Wikimedia projects\"},\"publisher\":{\"@type\":\"Organization\",\"name\":\"Wikimedia Foundation, Inc.\",\"logo\":{\"@type\":\"ImageObject\",\"url\":\"https:\\\\/\\\\/www.wikimedia.org\\\\/static\\\\/images\\\\/wmf-hor-googpub.png\"}},\"datePublished\":\"2002-01-26T15:28:12Z\",\"dateModified\":\"2021-02-03T11:11:30Z\",\"image\":\"https:\\\\/\\\\/upload.wikimedia.org\\\\/wikipedia\\\\/en\\\\/1\\\\/1c\\\\/U-1_class_surfaced.jpeg\",\"headline\":\"Wikimedia project page\"}\\n  </script>\\n  <script>\\n   (RLQ=window.RLQ||[]).push(function(){mw.config.set({\"wgBackendResponseTime\":852,\"wgHostname\":\"mw1332\"});});\\n  </script>\\n </body>\\n</html>'"
            ]
          },
          "metadata": {},
          "execution_count": 12
        }
      ]
    },
    {
      "cell_type": "code",
      "metadata": {
        "colab": {
          "base_uri": "https://localhost:8080/"
        },
        "id": "To7KTWQa6d8e",
        "outputId": "93a66c13-6106-4ee6-dd45-0d297ca5efb4"
      },
      "source": [
        "headers = soup.find_all(\"span\", class_=\"mw-headline\")\n",
        "headers"
      ],
      "execution_count": null,
      "outputs": [
        {
          "output_type": "execute_result",
          "data": {
            "text/plain": [
              "[<span class=\"mw-headline\" id=\"From_today's_featured_article\">From today's featured article</span>,\n",
              " <span class=\"mw-headline\" id=\"Did_you_know_...\">Did you know ...</span>,\n",
              " <span class=\"mw-headline\" id=\"In_the_news\">In the news</span>,\n",
              " <span class=\"mw-headline\" id=\"On_this_day\">On this day</span>,\n",
              " <span class=\"mw-headline\" id=\"Today's_featured_picture\">Today's featured picture</span>,\n",
              " <span class=\"mw-headline\" id=\"Other_areas_of_Wikipedia\">Other areas of Wikipedia</span>,\n",
              " <span class=\"mw-headline\" id=\"Wikipedia's_sister_projects\">Wikipedia's sister projects</span>,\n",
              " <span class=\"mw-headline\" id=\"Wikipedia_languages\">Wikipedia languages</span>]"
            ]
          },
          "metadata": {},
          "execution_count": 10
        }
      ]
    },
    {
      "cell_type": "code",
      "metadata": {
        "colab": {
          "base_uri": "https://localhost:8080/"
        },
        "id": "L79h0vZJ7F0j",
        "outputId": "a94c9d0a-814c-4361-b92b-c7c6290d3ec3"
      },
      "source": [
        "header_list=[]\n",
        "\n",
        "for i in headers:\n",
        "  header_list.append(i.text)\n",
        "header_list "
      ],
      "execution_count": null,
      "outputs": [
        {
          "output_type": "execute_result",
          "data": {
            "text/plain": [
              "[\"From today's featured article\",\n",
              " 'Did you know\\xa0...',\n",
              " 'In the news',\n",
              " 'On this day',\n",
              " \"Today's featured picture\",\n",
              " 'Other areas of Wikipedia',\n",
              " \"Wikipedia's sister projects\",\n",
              " 'Wikipedia languages']"
            ]
          },
          "metadata": {},
          "execution_count": 18
        }
      ]
    },
    {
      "cell_type": "code",
      "metadata": {
        "colab": {
          "base_uri": "https://localhost:8080/",
          "height": 300
        },
        "id": "1oJma4io897D",
        "outputId": "c8498c65-4c2a-4a43-90ec-c267633444e1"
      },
      "source": [
        "headers=pd.DataFrame({})\n",
        "headers['headers_list'] = header_list\n",
        "\n",
        "headers"
      ],
      "execution_count": null,
      "outputs": [
        {
          "output_type": "execute_result",
          "data": {
            "text/html": [
              "<div>\n",
              "<style scoped>\n",
              "    .dataframe tbody tr th:only-of-type {\n",
              "        vertical-align: middle;\n",
              "    }\n",
              "\n",
              "    .dataframe tbody tr th {\n",
              "        vertical-align: top;\n",
              "    }\n",
              "\n",
              "    .dataframe thead th {\n",
              "        text-align: right;\n",
              "    }\n",
              "</style>\n",
              "<table border=\"1\" class=\"dataframe\">\n",
              "  <thead>\n",
              "    <tr style=\"text-align: right;\">\n",
              "      <th></th>\n",
              "      <th>headers_list</th>\n",
              "    </tr>\n",
              "  </thead>\n",
              "  <tbody>\n",
              "    <tr>\n",
              "      <th>0</th>\n",
              "      <td>From today's featured article</td>\n",
              "    </tr>\n",
              "    <tr>\n",
              "      <th>1</th>\n",
              "      <td>Did you know ...</td>\n",
              "    </tr>\n",
              "    <tr>\n",
              "      <th>2</th>\n",
              "      <td>In the news</td>\n",
              "    </tr>\n",
              "    <tr>\n",
              "      <th>3</th>\n",
              "      <td>On this day</td>\n",
              "    </tr>\n",
              "    <tr>\n",
              "      <th>4</th>\n",
              "      <td>Today's featured picture</td>\n",
              "    </tr>\n",
              "    <tr>\n",
              "      <th>5</th>\n",
              "      <td>Other areas of Wikipedia</td>\n",
              "    </tr>\n",
              "    <tr>\n",
              "      <th>6</th>\n",
              "      <td>Wikipedia's sister projects</td>\n",
              "    </tr>\n",
              "    <tr>\n",
              "      <th>7</th>\n",
              "      <td>Wikipedia languages</td>\n",
              "    </tr>\n",
              "  </tbody>\n",
              "</table>\n",
              "</div>"
            ],
            "text/plain": [
              "                    headers_list\n",
              "0  From today's featured article\n",
              "1               Did you know ...\n",
              "2                    In the news\n",
              "3                    On this day\n",
              "4       Today's featured picture\n",
              "5       Other areas of Wikipedia\n",
              "6    Wikipedia's sister projects\n",
              "7            Wikipedia languages"
            ]
          },
          "metadata": {},
          "execution_count": 25
        }
      ]
    },
    {
      "cell_type": "markdown",
      "metadata": {
        "id": "bqKoWV3u-lpP"
      },
      "source": [
        "## 2) Write a python program to display IMDB’s Top rated 100 movies’ data (i.e. Name, IMDB rating, Year of release)."
      ]
    },
    {
      "cell_type": "code",
      "metadata": {
        "colab": {
          "base_uri": "https://localhost:8080/"
        },
        "id": "vlSK1b-nIRsS",
        "outputId": "f8cb10d9-ab0d-4948-cb02-a167d52023ec"
      },
      "source": [
        "from requests import get\n",
        "url = 'https://www.imdb.com/search/title/?release_date=2017&sort=num_votes,desc&page=1'\n",
        "\n",
        "response = get(url)\n",
        "print(response.text[:500])"
      ],
      "execution_count": null,
      "outputs": [
        {
          "output_type": "stream",
          "name": "stdout",
          "text": [
            "\n",
            "\n",
            "<!DOCTYPE html>\n",
            "<html\n",
            "    xmlns:og=\"http://ogp.me/ns#\"\n",
            "    xmlns:fb=\"http://www.facebook.com/2008/fbml\">\n",
            "    <head>\n",
            "         \n",
            "\n",
            "        <meta charset=\"utf-8\">\n",
            "        <meta http-equiv=\"X-UA-Compatible\" content=\"IE=edge\">\n",
            "\n",
            "\n",
            "\n",
            "\n",
            "        <script type=\"text/javascript\">var IMDbTimer={starttime: new Date().getTime(),pt:'java'};</script>\n",
            "\n",
            "<script>\n",
            "    if (typeof uet == 'function') {\n",
            "      uet(\"bb\", \"LoadTitle\", {wb: 1});\n",
            "    }\n",
            "</script>\n",
            "  <script>(function(t){ (t.events = t.events || {})[\"csm_head_pre_\n"
          ]
        }
      ]
    },
    {
      "cell_type": "code",
      "metadata": {
        "colab": {
          "base_uri": "https://localhost:8080/"
        },
        "id": "Sg_gURFiDkZ_",
        "outputId": "85d64f7a-9983-41e3-ea3b-c56891012797"
      },
      "source": [
        "from bs4 import BeautifulSoup\n",
        "html_soup = BeautifulSoup(response.text, 'html.parser')\n",
        "type(html_soup)"
      ],
      "execution_count": null,
      "outputs": [
        {
          "output_type": "execute_result",
          "data": {
            "text/plain": [
              "bs4.BeautifulSoup"
            ]
          },
          "metadata": {},
          "execution_count": 17
        }
      ]
    },
    {
      "cell_type": "code",
      "metadata": {
        "colab": {
          "base_uri": "https://localhost:8080/"
        },
        "id": "IsgCYqZqQbgC",
        "outputId": "833ba169-467f-42fe-ad3d-5050aa01a72c"
      },
      "source": [
        "movie_containers = html_soup.find_all('div', class_ = 'lister-item mode-advanced')\n",
        "print(type(movie_containers))\n",
        "print(len(movie_containers))"
      ],
      "execution_count": null,
      "outputs": [
        {
          "output_type": "stream",
          "name": "stdout",
          "text": [
            "<class 'bs4.element.ResultSet'>\n",
            "50\n"
          ]
        }
      ]
    },
    {
      "cell_type": "markdown",
      "metadata": {
        "id": "qJqnV0t-Hjqi"
      },
      "source": [
        "###Now we’ll select only the first container, and extract, by turn, each item of interest:\n",
        "\n",
        "*  The name of the movie.\n",
        "*  The year of release.\n",
        "*  The IMDB rating.\n",
        "\n",
        "\n",
        "\n"
      ]
    },
    {
      "cell_type": "code",
      "metadata": {
        "colab": {
          "base_uri": "https://localhost:8080/"
        },
        "id": "FInYgQ4yGjqJ",
        "outputId": "973c96eb-c553-430d-a89e-e3120a731ab6"
      },
      "source": [
        "first_movie = movie_containers[0]\n",
        "first_movie"
      ],
      "execution_count": null,
      "outputs": [
        {
          "output_type": "execute_result",
          "data": {
            "text/plain": [
              "<div class=\"lister-item mode-advanced\">\n",
              "<div class=\"lister-top-right\">\n",
              "<div class=\"ribbonize\" data-caller=\"filmosearch\" data-tconst=\"tt3315342\"></div>\n",
              "</div>\n",
              "<div class=\"lister-item-image float-left\">\n",
              "<a href=\"/title/tt3315342/\"> <img alt=\"Logan\" class=\"loadlate\" data-tconst=\"tt3315342\" height=\"98\" loadlate=\"https://m.media-amazon.com/images/M/MV5BYzc5MTU4N2EtYTkyMi00NjdhLTg3NWEtMTY4OTEyMzJhZTAzXkEyXkFqcGdeQXVyNjc1NTYyMjg@._V1_UX67_CR0,0,67,98_AL_.jpg\" src=\"https://m.media-amazon.com/images/S/sash/4FyxwxECzL-U1J8.png\" width=\"67\"/>\n",
              "</a> </div>\n",
              "<div class=\"lister-item-content\">\n",
              "<h3 class=\"lister-item-header\">\n",
              "<span class=\"lister-item-index unbold text-primary\">1.</span>\n",
              "<a href=\"/title/tt3315342/\">Logan</a>\n",
              "<span class=\"lister-item-year text-muted unbold\">(2017)</span>\n",
              "</h3>\n",
              "<p class=\"text-muted \">\n",
              "<span class=\"certificate\">R</span>\n",
              "<span class=\"ghost\">|</span>\n",
              "<span class=\"runtime\">137 min</span>\n",
              "<span class=\"ghost\">|</span>\n",
              "<span class=\"genre\">\n",
              "Action, Drama, Sci-Fi            </span>\n",
              "</p>\n",
              "<div class=\"ratings-bar\">\n",
              "<div class=\"inline-block ratings-imdb-rating\" data-value=\"8.1\" name=\"ir\">\n",
              "<span class=\"global-sprite rating-star imdb-rating\"></span>\n",
              "<strong>8.1</strong>\n",
              "</div>\n",
              "<div class=\"inline-block ratings-user-rating\">\n",
              "<span class=\"userRatingValue\" data-tconst=\"tt3315342\" id=\"urv_tt3315342\">\n",
              "<span class=\"global-sprite rating-star no-rating\"></span>\n",
              "<span class=\"rate\" data-no-rating=\"Rate this\" data-value=\"0\" name=\"ur\">Rate this</span>\n",
              "</span>\n",
              "<div class=\"starBarWidget\" id=\"sb_tt3315342\">\n",
              "<div class=\"rating rating-list\" data-csrf-token=\"\" data-ga-identifier=\"\" data-starbar-class=\"rating-list\" data-user=\"\" id=\"tt3315342|imdb|8.1|8.1|adv_li_tt||advsearch|title\" itemprop=\"aggregateRating\" itemscope=\"\" itemtype=\"http://schema.org/AggregateRating\" title=\"Users rated this 8.1/10 (688,525 votes) - click stars to rate\">\n",
              "<meta content=\"8.1\" itemprop=\"ratingValue\"/>\n",
              "<meta content=\"10\" itemprop=\"bestRating\"/>\n",
              "<meta content=\"688525\" itemprop=\"ratingCount\"/>\n",
              "<span class=\"rating-bg\"> </span>\n",
              "<span class=\"rating-imdb \" style=\"width: 113.4px\"> </span>\n",
              "<span class=\"rating-stars\">\n",
              "<a href=\"/register/login?why=vote\" rel=\"nofollow\" title=\"Register or login to rate this title\"><span>1</span></a>\n",
              "<a href=\"/register/login?why=vote\" rel=\"nofollow\" title=\"Register or login to rate this title\"><span>2</span></a>\n",
              "<a href=\"/register/login?why=vote\" rel=\"nofollow\" title=\"Register or login to rate this title\"><span>3</span></a>\n",
              "<a href=\"/register/login?why=vote\" rel=\"nofollow\" title=\"Register or login to rate this title\"><span>4</span></a>\n",
              "<a href=\"/register/login?why=vote\" rel=\"nofollow\" title=\"Register or login to rate this title\"><span>5</span></a>\n",
              "<a href=\"/register/login?why=vote\" rel=\"nofollow\" title=\"Register or login to rate this title\"><span>6</span></a>\n",
              "<a href=\"/register/login?why=vote\" rel=\"nofollow\" title=\"Register or login to rate this title\"><span>7</span></a>\n",
              "<a href=\"/register/login?why=vote\" rel=\"nofollow\" title=\"Register or login to rate this title\"><span>8</span></a>\n",
              "<a href=\"/register/login?why=vote\" rel=\"nofollow\" title=\"Register or login to rate this title\"><span>9</span></a>\n",
              "<a href=\"/register/login?why=vote\" rel=\"nofollow\" title=\"Register or login to rate this title\"><span>10</span></a>\n",
              "</span>\n",
              "<span class=\"rating-rating \"><span class=\"value\">8.1</span><span class=\"grey\">/</span><span class=\"grey\">10</span></span>\n",
              "<span class=\"rating-cancel \"><a href=\"/title/tt3315342/vote\" rel=\"nofollow\" title=\"Delete\"><span>X</span></a></span>\n",
              " </div>\n",
              "</div>\n",
              "</div>\n",
              "<div class=\"inline-block ratings-metascore\">\n",
              "<span class=\"metascore favorable\">77        </span>\n",
              "        Metascore\n",
              "            </div>\n",
              "</div>\n",
              "<p class=\"text-muted\">\n",
              "In a future where mutants are nearly extinct, an elderly and weary Logan leads a quiet life. But when Laura, a mutant child pursued by scientists, comes to him for help, he must get her to safety.</p>\n",
              "<p class=\"\">\n",
              "    Director:\n",
              "<a href=\"/name/nm0003506/\">James Mangold</a>\n",
              "<span class=\"ghost\">|</span> \n",
              "    Stars:\n",
              "<a href=\"/name/nm0413168/\">Hugh Jackman</a>, \n",
              "<a href=\"/name/nm0001772/\">Patrick Stewart</a>, \n",
              "<a href=\"/name/nm6748436/\">Dafne Keen</a>, \n",
              "<a href=\"/name/nm2933542/\">Boyd Holbrook</a>\n",
              "</p>\n",
              "<p class=\"sort-num_votes-visible\">\n",
              "<span class=\"text-muted\">Votes:</span>\n",
              "<span data-value=\"688525\" name=\"nv\">688,525</span>\n",
              "<span class=\"ghost\">|</span> <span class=\"text-muted\">Gross:</span>\n",
              "<span data-value=\"226,277,068\" name=\"nv\">$226.28M</span>\n",
              "</p>\n",
              "</div>\n",
              "</div>"
            ]
          },
          "metadata": {},
          "execution_count": 19
        }
      ]
    },
    {
      "cell_type": "code",
      "metadata": {
        "colab": {
          "base_uri": "https://localhost:8080/"
        },
        "id": "nHVKm5dIIDOy",
        "outputId": "fce58f5e-09c2-4131-a8fc-b0d58f053f8c"
      },
      "source": [
        "## Locating the parent div tag and its components\n",
        "first_movie.div"
      ],
      "execution_count": null,
      "outputs": [
        {
          "output_type": "execute_result",
          "data": {
            "text/plain": [
              "<div class=\"lister-top-right\">\n",
              "<div class=\"ribbonize\" data-caller=\"filmosearch\" data-tconst=\"tt3315342\"></div>\n",
              "</div>"
            ]
          },
          "metadata": {},
          "execution_count": 25
        }
      ]
    },
    {
      "cell_type": "code",
      "metadata": {
        "colab": {
          "base_uri": "https://localhost:8080/"
        },
        "id": "wITUrimZIhdy",
        "outputId": "ca5f23ba-cee9-444a-d612-837cef62bf9e"
      },
      "source": [
        "## Extracting each components to segrigate the required info\n",
        "##First extracting the movie title\n",
        "first_movie.a"
      ],
      "execution_count": null,
      "outputs": [
        {
          "output_type": "execute_result",
          "data": {
            "text/plain": [
              "<a href=\"/title/tt3315342/\"> <img alt=\"Logan\" class=\"loadlate\" data-tconst=\"tt3315342\" height=\"98\" loadlate=\"https://m.media-amazon.com/images/M/MV5BYzc5MTU4N2EtYTkyMi00NjdhLTg3NWEtMTY4OTEyMzJhZTAzXkEyXkFqcGdeQXVyNjc1NTYyMjg@._V1_UX67_CR0,0,67,98_AL_.jpg\" src=\"https://m.media-amazon.com/images/S/sash/4FyxwxECzL-U1J8.png\" width=\"67\"/>\n",
              "</a>"
            ]
          },
          "metadata": {},
          "execution_count": 26
        }
      ]
    },
    {
      "cell_type": "code",
      "metadata": {
        "colab": {
          "base_uri": "https://localhost:8080/"
        },
        "id": "2c55lxVHI1VJ",
        "outputId": "169f4235-7d85-4c45-bb6c-ea9bb819f24a"
      },
      "source": [
        "## As a tag did not give take us to the movie title, we will move a step up and check with h3 tag\n",
        "first_movie.h3"
      ],
      "execution_count": null,
      "outputs": [
        {
          "output_type": "execute_result",
          "data": {
            "text/plain": [
              "<h3 class=\"lister-item-header\">\n",
              "<span class=\"lister-item-index unbold text-primary\">1.</span>\n",
              "<a href=\"/title/tt3315342/\">Logan</a>\n",
              "<span class=\"lister-item-year text-muted unbold\">(2017)</span>\n",
              "</h3>"
            ]
          },
          "metadata": {},
          "execution_count": 28
        }
      ]
    },
    {
      "cell_type": "code",
      "metadata": {
        "colab": {
          "base_uri": "https://localhost:8080/"
        },
        "id": "L6ELtz6xI6pR",
        "outputId": "3d3e9022-8ca5-4958-d923-b8b44244bd5e"
      },
      "source": [
        "#h3 tag got us closer to the movie title. Now we can try to access the <a> tag inside <h3> to extract our movie title\n",
        "first_movie.h3.a\n"
      ],
      "execution_count": null,
      "outputs": [
        {
          "output_type": "execute_result",
          "data": {
            "text/plain": [
              "<a href=\"/title/tt3315342/\">Logan</a>"
            ]
          },
          "metadata": {},
          "execution_count": 29
        }
      ]
    },
    {
      "cell_type": "code",
      "metadata": {
        "colab": {
          "base_uri": "https://localhost:8080/",
          "height": 35
        },
        "id": "o97lreqrKZgq",
        "outputId": "5ea64c5d-fbb2-4111-b5a4-49b70bc890ce"
      },
      "source": [
        "#finally we reached our target. Now it's just the matter of accessing the text from within the abobe meantioned <a> tag \n",
        "\n",
        "first_title = first_movie.h3.a.text\n",
        "first_title"
      ],
      "execution_count": null,
      "outputs": [
        {
          "output_type": "execute_result",
          "data": {
            "application/vnd.google.colaboratory.intrinsic+json": {
              "type": "string"
            },
            "text/plain": [
              "'Logan'"
            ]
          },
          "metadata": {},
          "execution_count": 31
        }
      ]
    },
    {
      "cell_type": "code",
      "metadata": {
        "colab": {
          "base_uri": "https://localhost:8080/"
        },
        "id": "qcqkInGAK9v4",
        "outputId": "278dc99c-28d1-4fd9-8f77-f769ac0e4074"
      },
      "source": [
        "#implimentingteh same rule we will now extract the year (release date) as well\n",
        "first_year = first_movie.h3.find('span', class_=\"lister-item-year text-muted unbold\")\n",
        "first_year"
      ],
      "execution_count": null,
      "outputs": [
        {
          "output_type": "execute_result",
          "data": {
            "text/plain": [
              "<span class=\"lister-item-year text-muted unbold\">(2017)</span>"
            ]
          },
          "metadata": {},
          "execution_count": 35
        }
      ]
    },
    {
      "cell_type": "code",
      "metadata": {
        "colab": {
          "base_uri": "https://localhost:8080/",
          "height": 35
        },
        "id": "ulNk0SeHMJ0x",
        "outputId": "c9cdd486-8c85-406e-c028-70be4140c68b"
      },
      "source": [
        "first_year.text"
      ],
      "execution_count": null,
      "outputs": [
        {
          "output_type": "execute_result",
          "data": {
            "application/vnd.google.colaboratory.intrinsic+json": {
              "type": "string"
            },
            "text/plain": [
              "'(2017)'"
            ]
          },
          "metadata": {},
          "execution_count": 36
        }
      ]
    },
    {
      "cell_type": "code",
      "metadata": {
        "colab": {
          "base_uri": "https://localhost:8080/"
        },
        "id": "26anmy_XMW0B",
        "outputId": "3836e825-c11e-463e-f0b2-2f7a65fee451"
      },
      "source": [
        "#now we will isolate the rating info\n",
        "first_movie.strong"
      ],
      "execution_count": null,
      "outputs": [
        {
          "output_type": "execute_result",
          "data": {
            "text/plain": [
              "<strong>8.1</strong>"
            ]
          },
          "metadata": {},
          "execution_count": 37
        }
      ]
    },
    {
      "cell_type": "code",
      "metadata": {
        "colab": {
          "base_uri": "https://localhost:8080/"
        },
        "id": "eDTMxciJMzrO",
        "outputId": "f373d458-8c3c-48f9-b42a-78361948421c"
      },
      "source": [
        "# rating info is also isolated and converted into float \n",
        "first_rating= float(first_movie.strong.text)\n",
        "first_rating"
      ],
      "execution_count": null,
      "outputs": [
        {
          "output_type": "execute_result",
          "data": {
            "text/plain": [
              "8.1"
            ]
          },
          "metadata": {},
          "execution_count": 39
        }
      ]
    },
    {
      "cell_type": "markdown",
      "metadata": {
        "id": "XwQpchglNr5a"
      },
      "source": [
        "### Success! now we shall create the lists to store the scraped data"
      ]
    },
    {
      "cell_type": "code",
      "metadata": {
        "id": "2dROeahKmJwO"
      },
      "source": [
        "pages = [str(i) for i in range(1,3)]"
      ],
      "execution_count": null,
      "outputs": []
    },
    {
      "cell_type": "code",
      "metadata": {
        "id": "JN0EeFbTNg_A"
      },
      "source": [
        "titles = []\n",
        "years = []\n",
        "imdb_ratings = []\n",
        "\n",
        "for page in pages:\n",
        "\n",
        "    response = get('https://www.imdb.com/search/title/?release_date=2017&sort=num_votes,desc&page=1' + \n",
        "        '&sort=num_votes,desc&start=51' + page)\n",
        "   \n",
        "    page_html = BeautifulSoup(response.text, 'html.parser')\n",
        "\n",
        "\n"
      ],
      "execution_count": null,
      "outputs": []
    },
    {
      "cell_type": "code",
      "metadata": {
        "id": "BJKzekCVotdC"
      },
      "source": [
        " for container in movie_containers :\n",
        "\n",
        "# The move name\n",
        "    title = container.h3.a.text\n",
        "    titles.append(title)\n",
        "\n",
        "# The release year \n",
        "    year = container.find('span', class_='lister-item-year').text\n",
        "    years.append(year)\n",
        "\n",
        "# The IMDB rating\n",
        "    rating = float(container.strong.text)\n",
        "    imdb_ratings.append(rating)\n"
      ],
      "execution_count": null,
      "outputs": []
    },
    {
      "cell_type": "markdown",
      "metadata": {
        "id": "05Vinwt5RPsu"
      },
      "source": [
        "### Now we will create a dataframe to arrange all the data we extracted in a table "
      ]
    },
    {
      "cell_type": "code",
      "metadata": {
        "id": "-ji6TXnZQ6HK"
      },
      "source": [
        "import pandas as pd"
      ],
      "execution_count": null,
      "outputs": []
    },
    {
      "cell_type": "code",
      "metadata": {
        "colab": {
          "base_uri": "https://localhost:8080/",
          "height": 423
        },
        "id": "Wqj5G43jRjCf",
        "outputId": "ab323fd3-fb81-4dac-b4fd-ff52fe952649"
      },
      "source": [
        "top_movies = pd.DataFrame({'Movie_title': titles,\n",
        "                          'Release_Year': years,\n",
        "                           'IMDB_Rating': imdb_ratings})\n",
        "\n",
        "top_movies"
      ],
      "execution_count": null,
      "outputs": [
        {
          "output_type": "execute_result",
          "data": {
            "text/html": [
              "<div>\n",
              "<style scoped>\n",
              "    .dataframe tbody tr th:only-of-type {\n",
              "        vertical-align: middle;\n",
              "    }\n",
              "\n",
              "    .dataframe tbody tr th {\n",
              "        vertical-align: top;\n",
              "    }\n",
              "\n",
              "    .dataframe thead th {\n",
              "        text-align: right;\n",
              "    }\n",
              "</style>\n",
              "<table border=\"1\" class=\"dataframe\">\n",
              "  <thead>\n",
              "    <tr style=\"text-align: right;\">\n",
              "      <th></th>\n",
              "      <th>Movie_title</th>\n",
              "      <th>Release_Year</th>\n",
              "      <th>IMDB_Rating</th>\n",
              "    </tr>\n",
              "  </thead>\n",
              "  <tbody>\n",
              "    <tr>\n",
              "      <th>0</th>\n",
              "      <td>Logan</td>\n",
              "      <td>(2017)</td>\n",
              "      <td>8.1</td>\n",
              "    </tr>\n",
              "    <tr>\n",
              "      <th>1</th>\n",
              "      <td>Thor: Ragnarok</td>\n",
              "      <td>(2017)</td>\n",
              "      <td>7.9</td>\n",
              "    </tr>\n",
              "    <tr>\n",
              "      <th>2</th>\n",
              "      <td>Wonder Woman</td>\n",
              "      <td>(2017)</td>\n",
              "      <td>7.4</td>\n",
              "    </tr>\n",
              "    <tr>\n",
              "      <th>3</th>\n",
              "      <td>Guardians of the Galaxy Vol. 2</td>\n",
              "      <td>(2017)</td>\n",
              "      <td>7.6</td>\n",
              "    </tr>\n",
              "    <tr>\n",
              "      <th>4</th>\n",
              "      <td>Dunkirk</td>\n",
              "      <td>(2017)</td>\n",
              "      <td>7.8</td>\n",
              "    </tr>\n",
              "    <tr>\n",
              "      <th>...</th>\n",
              "      <td>...</td>\n",
              "      <td>...</td>\n",
              "      <td>...</td>\n",
              "    </tr>\n",
              "    <tr>\n",
              "      <th>95</th>\n",
              "      <td>Bright</td>\n",
              "      <td>(I) (2017)</td>\n",
              "      <td>6.3</td>\n",
              "    </tr>\n",
              "    <tr>\n",
              "      <th>96</th>\n",
              "      <td>Baywatch</td>\n",
              "      <td>(2017)</td>\n",
              "      <td>5.5</td>\n",
              "    </tr>\n",
              "    <tr>\n",
              "      <th>97</th>\n",
              "      <td>Big Little Lies</td>\n",
              "      <td>(2017–2019)</td>\n",
              "      <td>8.5</td>\n",
              "    </tr>\n",
              "    <tr>\n",
              "      <th>98</th>\n",
              "      <td>Valerian and the City of a Thousand Planets</td>\n",
              "      <td>(2017)</td>\n",
              "      <td>6.5</td>\n",
              "    </tr>\n",
              "    <tr>\n",
              "      <th>99</th>\n",
              "      <td>American Made</td>\n",
              "      <td>(2017)</td>\n",
              "      <td>7.2</td>\n",
              "    </tr>\n",
              "  </tbody>\n",
              "</table>\n",
              "<p>100 rows × 3 columns</p>\n",
              "</div>"
            ],
            "text/plain": [
              "                                    Movie_title Release_Year  IMDB_Rating\n",
              "0                                         Logan       (2017)          8.1\n",
              "1                                Thor: Ragnarok       (2017)          7.9\n",
              "2                                  Wonder Woman       (2017)          7.4\n",
              "3                Guardians of the Galaxy Vol. 2       (2017)          7.6\n",
              "4                                       Dunkirk       (2017)          7.8\n",
              "..                                          ...          ...          ...\n",
              "95                                       Bright   (I) (2017)          6.3\n",
              "96                                     Baywatch       (2017)          5.5\n",
              "97                              Big Little Lies  (2017–2019)          8.5\n",
              "98  Valerian and the City of a Thousand Planets       (2017)          6.5\n",
              "99                                American Made       (2017)          7.2\n",
              "\n",
              "[100 rows x 3 columns]"
            ]
          },
          "metadata": {},
          "execution_count": 131
        }
      ]
    },
    {
      "cell_type": "code",
      "metadata": {
        "colab": {
          "base_uri": "https://localhost:8080/"
        },
        "id": "16iHcz_iSg0P",
        "outputId": "08d86380-58e2-4e4f-a154-489132a4a56c"
      },
      "source": [
        "print(top_movies.info())"
      ],
      "execution_count": null,
      "outputs": [
        {
          "output_type": "stream",
          "name": "stdout",
          "text": [
            "<class 'pandas.core.frame.DataFrame'>\n",
            "RangeIndex: 100 entries, 0 to 99\n",
            "Data columns (total 3 columns):\n",
            " #   Column        Non-Null Count  Dtype  \n",
            "---  ------        --------------  -----  \n",
            " 0   Movie_title   100 non-null    object \n",
            " 1   Release_Year  100 non-null    object \n",
            " 2   IMDB_Rating   100 non-null    float64\n",
            "dtypes: float64(1), object(2)\n",
            "memory usage: 2.5+ KB\n",
            "None\n"
          ]
        }
      ]
    },
    {
      "cell_type": "code",
      "metadata": {
        "colab": {
          "base_uri": "https://localhost:8080/"
        },
        "id": "z_uzkmDtrpyy",
        "outputId": "f751beaf-d4de-4b7d-aa32-7c50d301c04d"
      },
      "source": [
        "# Converting the values of year column into int \n",
        "top_movies['Release_Year'].unique()"
      ],
      "execution_count": null,
      "outputs": [
        {
          "output_type": "execute_result",
          "data": {
            "text/plain": [
              "array(['(2017)', '(I) (2017)', '(2017–2021)', '(2017–2020)',\n",
              "       '(2017–2019)', '(2017– )'], dtype=object)"
            ]
          },
          "metadata": {},
          "execution_count": 133
        }
      ]
    },
    {
      "cell_type": "code",
      "metadata": {
        "id": "ds_Wkz90r45h"
      },
      "source": [
        "top_movies.loc[:, 'Release_Year'] = top_movies['Release_Year'].str[-5:-1].astype(str)"
      ],
      "execution_count": null,
      "outputs": []
    },
    {
      "cell_type": "code",
      "metadata": {
        "colab": {
          "base_uri": "https://localhost:8080/"
        },
        "id": "SkGtILhSsbU1",
        "outputId": "c095c38a-766b-45ae-8443-a96979a2a698"
      },
      "source": [
        "top_movies['Release_Year']"
      ],
      "execution_count": null,
      "outputs": [
        {
          "output_type": "execute_result",
          "data": {
            "text/plain": [
              "0     2017\n",
              "1     2017\n",
              "2     2017\n",
              "3     2017\n",
              "4     2017\n",
              "      ... \n",
              "95    2017\n",
              "96    2017\n",
              "97    2019\n",
              "98    2017\n",
              "99    2017\n",
              "Name: Release_Year, Length: 100, dtype: object"
            ]
          },
          "metadata": {},
          "execution_count": 135
        }
      ]
    },
    {
      "cell_type": "code",
      "metadata": {
        "colab": {
          "base_uri": "https://localhost:8080/",
          "height": 423
        },
        "id": "sn0IEDvOuZL8",
        "outputId": "84f26922-c784-4aed-cd82-2186893a5209"
      },
      "source": [
        "top_movies"
      ],
      "execution_count": null,
      "outputs": [
        {
          "output_type": "execute_result",
          "data": {
            "text/html": [
              "<div>\n",
              "<style scoped>\n",
              "    .dataframe tbody tr th:only-of-type {\n",
              "        vertical-align: middle;\n",
              "    }\n",
              "\n",
              "    .dataframe tbody tr th {\n",
              "        vertical-align: top;\n",
              "    }\n",
              "\n",
              "    .dataframe thead th {\n",
              "        text-align: right;\n",
              "    }\n",
              "</style>\n",
              "<table border=\"1\" class=\"dataframe\">\n",
              "  <thead>\n",
              "    <tr style=\"text-align: right;\">\n",
              "      <th></th>\n",
              "      <th>Movie_title</th>\n",
              "      <th>Release_Year</th>\n",
              "      <th>IMDB_Rating</th>\n",
              "    </tr>\n",
              "  </thead>\n",
              "  <tbody>\n",
              "    <tr>\n",
              "      <th>0</th>\n",
              "      <td>Logan</td>\n",
              "      <td>2017</td>\n",
              "      <td>8.1</td>\n",
              "    </tr>\n",
              "    <tr>\n",
              "      <th>1</th>\n",
              "      <td>Thor: Ragnarok</td>\n",
              "      <td>2017</td>\n",
              "      <td>7.9</td>\n",
              "    </tr>\n",
              "    <tr>\n",
              "      <th>2</th>\n",
              "      <td>Wonder Woman</td>\n",
              "      <td>2017</td>\n",
              "      <td>7.4</td>\n",
              "    </tr>\n",
              "    <tr>\n",
              "      <th>3</th>\n",
              "      <td>Guardians of the Galaxy Vol. 2</td>\n",
              "      <td>2017</td>\n",
              "      <td>7.6</td>\n",
              "    </tr>\n",
              "    <tr>\n",
              "      <th>4</th>\n",
              "      <td>Dunkirk</td>\n",
              "      <td>2017</td>\n",
              "      <td>7.8</td>\n",
              "    </tr>\n",
              "    <tr>\n",
              "      <th>...</th>\n",
              "      <td>...</td>\n",
              "      <td>...</td>\n",
              "      <td>...</td>\n",
              "    </tr>\n",
              "    <tr>\n",
              "      <th>95</th>\n",
              "      <td>Bright</td>\n",
              "      <td>2017</td>\n",
              "      <td>6.3</td>\n",
              "    </tr>\n",
              "    <tr>\n",
              "      <th>96</th>\n",
              "      <td>Baywatch</td>\n",
              "      <td>2017</td>\n",
              "      <td>5.5</td>\n",
              "    </tr>\n",
              "    <tr>\n",
              "      <th>97</th>\n",
              "      <td>Big Little Lies</td>\n",
              "      <td>2019</td>\n",
              "      <td>8.5</td>\n",
              "    </tr>\n",
              "    <tr>\n",
              "      <th>98</th>\n",
              "      <td>Valerian and the City of a Thousand Planets</td>\n",
              "      <td>2017</td>\n",
              "      <td>6.5</td>\n",
              "    </tr>\n",
              "    <tr>\n",
              "      <th>99</th>\n",
              "      <td>American Made</td>\n",
              "      <td>2017</td>\n",
              "      <td>7.2</td>\n",
              "    </tr>\n",
              "  </tbody>\n",
              "</table>\n",
              "<p>100 rows × 3 columns</p>\n",
              "</div>"
            ],
            "text/plain": [
              "                                    Movie_title Release_Year  IMDB_Rating\n",
              "0                                         Logan         2017          8.1\n",
              "1                                Thor: Ragnarok         2017          7.9\n",
              "2                                  Wonder Woman         2017          7.4\n",
              "3                Guardians of the Galaxy Vol. 2         2017          7.6\n",
              "4                                       Dunkirk         2017          7.8\n",
              "..                                          ...          ...          ...\n",
              "95                                       Bright         2017          6.3\n",
              "96                                     Baywatch         2017          5.5\n",
              "97                              Big Little Lies         2019          8.5\n",
              "98  Valerian and the City of a Thousand Planets         2017          6.5\n",
              "99                                American Made         2017          7.2\n",
              "\n",
              "[100 rows x 3 columns]"
            ]
          },
          "metadata": {},
          "execution_count": 136
        }
      ]
    },
    {
      "cell_type": "code",
      "metadata": {
        "id": "QkV2kyLVu7Fo"
      },
      "source": [
        "top_movies.to_csv('IMDB_Top 100.csv')"
      ],
      "execution_count": null,
      "outputs": []
    },
    {
      "cell_type": "code",
      "metadata": {
        "id": "7cM7Ib-wwPP1"
      },
      "source": [
        ""
      ],
      "execution_count": null,
      "outputs": []
    }
  ]
}