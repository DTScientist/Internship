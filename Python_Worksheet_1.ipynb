{
  "nbformat": 4,
  "nbformat_minor": 0,
  "metadata": {
    "colab": {
      "name": "Python Worksheet 1.ipynb",
      "provenance": [],
      "collapsed_sections": []
    },
    "kernelspec": {
      "name": "python3",
      "display_name": "Python 3"
    },
    "language_info": {
      "name": "python"
    }
  },
  "cells": [
    {
      "cell_type": "markdown",
      "metadata": {
        "id": "uFZrE52MtU4p"
      },
      "source": [
        "\n",
        "1. Which of the following operators is used to calculate remainder in a division?\n",
        "A) # B) &\n",
        "C) % D) $ \n",
        "\n",
        "Ans. c) %\n"
      ]
    },
    {
      "cell_type": "markdown",
      "metadata": {
        "id": "Ck6_49HzuvHq"
      },
      "source": [
        "2. In python 2//3 is equal to?\n",
        "A) 0.666 B) 0\n",
        "C) 1 D) 0.67\n",
        "\n",
        "Ans. c) 1"
      ]
    },
    {
      "cell_type": "markdown",
      "metadata": {
        "id": "bALFPR6JvhuF"
      },
      "source": [
        "In python, 6<<2 is equal to?\n",
        "A) 36 B) 10\n",
        "C) 24 D) 45\n",
        "\n",
        "Ans. "
      ]
    },
    {
      "cell_type": "code",
      "metadata": {
        "id": "zZT1AAcmtP89"
      },
      "source": [
        "6<<2"
      ],
      "execution_count": null,
      "outputs": []
    },
    {
      "cell_type": "markdown",
      "metadata": {
        "id": "-9RluLuNvvpM"
      },
      "source": [
        "In python, 6&2 will give which of the following as output?\n",
        "A) 2 B) True\n",
        "C) False D) 0\n",
        "\n",
        "Ans."
      ]
    },
    {
      "cell_type": "markdown",
      "metadata": {
        "id": "RV7XzRoov2kN"
      },
      "source": [
        "In python, 6|2 will give which of the following as output?\n",
        "A) 2 B) 4\n",
        "C) 0 D) 6\n",
        "\n",
        "Ans."
      ]
    },
    {
      "cell_type": "code",
      "metadata": {
        "id": "uvcO-6ZnvaiF"
      },
      "source": [
        ""
      ],
      "execution_count": null,
      "outputs": []
    }
  ]
}